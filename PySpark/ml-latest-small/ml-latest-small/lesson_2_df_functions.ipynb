{
 "cells": [
  {
   "cell_type": "code",
   "execution_count": 4,
   "metadata": {},
   "outputs": [],
   "source": [
    "from pyspark.sql import SparkSession"
   ]
  },
  {
   "cell_type": "code",
   "execution_count": 5,
   "metadata": {},
   "outputs": [],
   "source": [
    "spark = SparkSession.builder.master('local[*]').getOrCreate()"
   ]
  },
  {
   "cell_type": "code",
   "execution_count": 6,
   "metadata": {},
   "outputs": [
    {
     "name": "stdout",
     "output_type": "stream",
     "text": [
      "+-----+---+------+----------+\n",
      "| name|age|gender|       dob|\n",
      "+-----+---+------+----------+\n",
      "|  jon| 45|  male|1997-09-18|\n",
      "|sarah| 32|female|2001-12-04|\n",
      "| jane| 65|female|1968-05-30|\n",
      "|  jim| 70|  male|      null|\n",
      "|  joe| 22|  male|2004-10-11|\n",
      "|simon| 52|  male|2005-04-04|\n",
      "+-----+---+------+----------+\n",
      "\n"
     ]
    }
   ],
   "source": [
    "data = spark.read.csv('data/users.csv', header=True)\n",
    "data.show()"
   ]
  },
  {
   "cell_type": "code",
   "execution_count": 8,
   "metadata": {},
   "outputs": [
    {
     "name": "stdout",
     "output_type": "stream",
     "text": [
      "+-----+---+------+----------+\n",
      "| name|age|gender|       dob|\n",
      "+-----+---+------+----------+\n",
      "|  jon| 45|  male|1997-09-18|\n",
      "|sarah| 32|female|2001-12-04|\n",
      "| jane| 65|female|1968-05-30|\n",
      "|  jim| 70|  male|      null|\n",
      "|  joe| 22|  male|2004-10-11|\n",
      "|simon| 52|  male|2005-04-04|\n",
      "+-----+---+------+----------+\n",
      "\n"
     ]
    }
   ],
   "source": [
    "# Insert or replace column: withColumn(col_name, col_data)\n",
    "\n",
    "data.withColumn('is_person', data.name)\n",
    "data.show()"
   ]
  },
  {
   "cell_type": "code",
   "execution_count": 9,
   "metadata": {},
   "outputs": [
    {
     "name": "stdout",
     "output_type": "stream",
     "text": [
      "+-----+---+------+----------+---------+\n",
      "| name|age|gender|       dob|is_person|\n",
      "+-----+---+------+----------+---------+\n",
      "|  jon| 45|  male|1997-09-18|      jon|\n",
      "|sarah| 32|female|2001-12-04|    sarah|\n",
      "| jane| 65|female|1968-05-30|     jane|\n",
      "|  jim| 70|  male|      null|      jim|\n",
      "|  joe| 22|  male|2004-10-11|      joe|\n",
      "|simon| 52|  male|2005-04-04|    simon|\n",
      "+-----+---+------+----------+---------+\n",
      "\n"
     ]
    }
   ],
   "source": [
    "# Insert or replace column: withColumn(col_name, col_data)\n",
    "\n",
    "data = data.withColumn('is_person', data.name)\n",
    "data.show()"
   ]
  },
  {
   "cell_type": "code",
   "execution_count": 10,
   "metadata": {},
   "outputs": [
    {
     "name": "stdout",
     "output_type": "stream",
     "text": [
      "+-----+---+------+----------+------+\n",
      "| name|age|gender|       dob|name_2|\n",
      "+-----+---+------+----------+------+\n",
      "|  jon| 45|  male|1997-09-18|   jon|\n",
      "|sarah| 32|female|2001-12-04| sarah|\n",
      "| jane| 65|female|1968-05-30|  jane|\n",
      "|  jim| 70|  male|      null|   jim|\n",
      "|  joe| 22|  male|2004-10-11|   joe|\n",
      "|simon| 52|  male|2005-04-04| simon|\n",
      "+-----+---+------+----------+------+\n",
      "\n"
     ]
    }
   ],
   "source": [
    "# Rename a column: withColumnRenamed(old_col_name, new_col_name)\n",
    "\n",
    "data = data.withColumnRenamed('is_person', 'name_2')\n",
    "data.show()"
   ]
  },
  {
   "cell_type": "code",
   "execution_count": 11,
   "metadata": {},
   "outputs": [
    {
     "name": "stdout",
     "output_type": "stream",
     "text": [
      "+-----+---+------+----------+\n",
      "| name|age|gender|       dob|\n",
      "+-----+---+------+----------+\n",
      "|  jon| 45|  male|1997-09-18|\n",
      "|sarah| 32|female|2001-12-04|\n",
      "| jane| 65|female|1968-05-30|\n",
      "|  jim| 70|  male|      null|\n",
      "|  joe| 22|  male|2004-10-11|\n",
      "|simon| 52|  male|2005-04-04|\n",
      "+-----+---+------+----------+\n",
      "\n"
     ]
    }
   ],
   "source": [
    "# Delete a column: drop(col_name)\n",
    "\n",
    "data = data.drop('name_2')\n",
    "data.show()"
   ]
  },
  {
   "cell_type": "code",
   "execution_count": 12,
   "metadata": {},
   "outputs": [
    {
     "name": "stdout",
     "output_type": "stream",
     "text": [
      "+-----+---+------+----------+\n",
      "| name|age|gender|       dob|\n",
      "+-----+---+------+----------+\n",
      "|  jon| 45|  male|1997-09-18|\n",
      "|sarah| 32|female|2001-12-04|\n",
      "| jane| 65|female|1968-05-30|\n",
      "|  joe| 22|  male|2004-10-11|\n",
      "|simon| 52|  male|2005-04-04|\n",
      "+-----+---+------+----------+\n",
      "\n"
     ]
    }
   ],
   "source": [
    "# Remove rows with missing values\n",
    "\n",
    "data = data.na.drop()\n",
    "data.show()"
   ]
  },
  {
   "cell_type": "code",
   "execution_count": 13,
   "metadata": {},
   "outputs": [
    {
     "name": "stdout",
     "output_type": "stream",
     "text": [
      "+-----+---+------+----------+\n",
      "| name|age|gender|       dob|\n",
      "+-----+---+------+----------+\n",
      "|  jon| 45|  male|1997-09-18|\n",
      "|sarah| 32|female|2001-12-04|\n",
      "| jane| 65|female|1968-05-30|\n",
      "|  joe| 22|  male|1990-01-01|\n",
      "|simon| 52|  male|2005-04-04|\n",
      "+-----+---+------+----------+\n",
      "\n"
     ]
    }
   ],
   "source": [
    "# Replace values with new values\n",
    "\n",
    "data = data.replace('2004-10-11', '1990-01-01')\n",
    "data.show()"
   ]
  },
  {
   "cell_type": "code",
   "execution_count": null,
   "metadata": {},
   "outputs": [],
   "source": [
    "# Select single column\n",
    "\n",
    "data.select\n",
    "(\n",
    "    'name'\n",
    ").show()"
   ]
  },
  {
   "cell_type": "code",
   "execution_count": null,
   "metadata": {},
   "outputs": [],
   "source": [
    "# Select multiple columns\n",
    "\n",
    "data.select\n",
    "(\n",
    "    ['name', 'age']\n",
    ").show()"
   ]
  },
  {
   "cell_type": "code",
   "execution_count": null,
   "metadata": {},
   "outputs": [],
   "source": [
    "# Filter with single condition\n",
    "\n",
    "from pyspark.sql.functions import col, lit\n",
    "\n",
    "data.filter\n",
    "( \n",
    "    col('dob') >= lit('2000-01-01') \n",
    ").show()"
   ]
  },
  {
   "cell_type": "code",
   "execution_count": null,
   "metadata": {},
   "outputs": [],
   "source": [
    "# Filter with AND conditions\n",
    "\n",
    "data.filter\n",
    "( \n",
    "    (col('dob') >= lit('2000-01-01')) & \n",
    "    (col('age') <= 50)\n",
    ").show()"
   ]
  },
  {
   "cell_type": "code",
   "execution_count": null,
   "metadata": {},
   "outputs": [],
   "source": [
    "# Filter with OR conditions\n",
    "\n",
    "data.filter\n",
    "( \n",
    "    (col('dob') >= lit('2000-01-01')) | \n",
    "    (col('age') <= 50)\n",
    ").show()"
   ]
  },
  {
   "cell_type": "code",
   "execution_count": null,
   "metadata": {},
   "outputs": [],
   "source": [
    "# Filter for between two values\n",
    "\n",
    "data.filter\n",
    "(\n",
    "    data.age.between(20, 35)\n",
    ").show()"
   ]
  },
  {
   "cell_type": "code",
   "execution_count": null,
   "metadata": {},
   "outputs": [],
   "source": [
    "# Apply values conditionally (CASE WHEN)\n",
    "\n",
    "from pyspark.sql.functions import when\n",
    "\n",
    "data.select\n",
    "(\n",
    "    'name',\n",
    "    'gender',\n",
    "    when(data.age <= 40, 'young').otherwise('old')\n",
    ").show()"
   ]
  },
  {
   "cell_type": "code",
   "execution_count": null,
   "metadata": {},
   "outputs": [],
   "source": [
    "# Filtering strings using LIKE\n",
    "\n",
    "data.select(\n",
    "    'name',\n",
    "    data.name.rlike('^[j]').alias('Names starting with J')\n",
    ").distinct().show()"
   ]
  },
  {
   "cell_type": "code",
   "execution_count": null,
   "metadata": {},
   "outputs": [],
   "source": [
    "# Group by\n",
    "\n",
    "data.select([\n",
    "    'gender',\n",
    "    'age'\n",
    "]).groupBy('gender').mean().show()"
   ]
  },
  {
   "cell_type": "code",
   "execution_count": null,
   "metadata": {},
   "outputs": [],
   "source": [
    "# Save data to csv\n",
    "\n",
    "data.write.csv('new_data.csv')"
   ]
  }
 ],
 "metadata": {
  "kernelspec": {
   "display_name": "base",
   "language": "python",
   "name": "python3"
  },
  "language_info": {
   "codemirror_mode": {
    "name": "ipython",
    "version": 3
   },
   "file_extension": ".py",
   "mimetype": "text/x-python",
   "name": "python",
   "nbconvert_exporter": "python",
   "pygments_lexer": "ipython3",
   "version": "3.9.13 (main, Aug 25 2022, 23:51:50) [MSC v.1916 64 bit (AMD64)]"
  },
  "orig_nbformat": 4,
  "vscode": {
   "interpreter": {
    "hash": "ad2bdc8ecc057115af97d19610ffacc2b4e99fae6737bb82f5d7fb13d2f2c186"
   }
  }
 },
 "nbformat": 4,
 "nbformat_minor": 2
}
