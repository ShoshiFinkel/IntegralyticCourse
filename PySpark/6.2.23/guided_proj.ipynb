{
 "cells": [
  {
   "cell_type": "code",
   "execution_count": 1,
   "metadata": {},
   "outputs": [
    {
     "name": "stderr",
     "output_type": "stream",
     "text": [
      "/usr/local/lib/python3.10/site-packages/pyspark/bin/load-spark-env.sh: line 68: ps: command not found\n",
      "Setting default log level to \"WARN\".\n",
      "To adjust logging level use sc.setLogLevel(newLevel). For SparkR, use setLogLevel(newLevel).\n"
     ]
    },
    {
     "name": "stdout",
     "output_type": "stream",
     "text": [
      "23/02/06 07:55:08 WARN NativeCodeLoader: Unable to load native-hadoop library for your platform... using builtin-java classes where applicable\n"
     ]
    }
   ],
   "source": [
    "from pyspark.sql import SparkSession\n",
    "spark = SparkSession.builder.getOrCreate()"
   ]
  },
  {
   "cell_type": "code",
   "execution_count": 2,
   "metadata": {},
   "outputs": [],
   "source": [
    "import numpy as np\n",
    "import pandas as pd\n",
    "random_numbers_df = pd.DataFrame(np.random.randint(0,50,size=(5, 2)), columns=list('AB'))"
   ]
  },
  {
   "cell_type": "code",
   "execution_count": 4,
   "metadata": {},
   "outputs": [
    {
     "name": "stderr",
     "output_type": "stream",
     "text": [
      "/usr/local/lib/python3.10/site-packages/pyspark/sql/pandas/conversion.py:474: FutureWarning: iteritems is deprecated and will be removed in a future version. Use .items instead.\n",
      "  for column, series in pdf.iteritems():\n",
      "/usr/local/lib/python3.10/site-packages/pyspark/sql/pandas/conversion.py:486: FutureWarning: iteritems is deprecated and will be removed in a future version. Use .items instead.\n",
      "  for column, series in pdf.iteritems():\n"
     ]
    }
   ],
   "source": [
    "spark_random_numbers_df = spark.createDataFrame(random_numbers_df)"
   ]
  },
  {
   "cell_type": "code",
   "execution_count": 5,
   "metadata": {},
   "outputs": [
    {
     "data": {
      "text/plain": [
       "[]"
      ]
     },
     "execution_count": 5,
     "metadata": {},
     "output_type": "execute_result"
    }
   ],
   "source": [
    "spark.catalog.listTables()"
   ]
  },
  {
   "cell_type": "code",
   "execution_count": 7,
   "metadata": {},
   "outputs": [],
   "source": [
    "spark_random_numbers_df.createOrReplaceTempView('temp')"
   ]
  },
  {
   "cell_type": "code",
   "execution_count": 10,
   "metadata": {},
   "outputs": [
    {
     "data": {
      "text/plain": [
       "[Table(name='temp', database=None, description=None, tableType='TEMPORARY', isTemporary=True)]"
      ]
     },
     "execution_count": 10,
     "metadata": {},
     "output_type": "execute_result"
    }
   ],
   "source": [
    "spark.catalog.listTables()"
   ]
  },
  {
   "cell_type": "code",
   "execution_count": 14,
   "metadata": {},
   "outputs": [],
   "source": [
    "spark_airports = spark.read.csv('airports.csv', header= True)"
   ]
  },
  {
   "cell_type": "code",
   "execution_count": 16,
   "metadata": {},
   "outputs": [
    {
     "data": {
      "text/plain": [
       "pyspark.sql.dataframe.DataFrame"
      ]
     },
     "execution_count": 16,
     "metadata": {},
     "output_type": "execute_result"
    }
   ],
   "source": [
    "type(spark_airports)"
   ]
  },
  {
   "cell_type": "code",
   "execution_count": 19,
   "metadata": {},
   "outputs": [
    {
     "data": {
      "text/plain": [
       "DataFrame[year: string, month: string, day: string, dep_time: string, dep_delay: string, arr_time: string, arr_delay: string, carrier: string, tailnum: string, flight: string, origin: string, dest: string, air_time: string, distance: string, hour: string, minute: string]"
      ]
     },
     "execution_count": 19,
     "metadata": {},
     "output_type": "execute_result"
    }
   ],
   "source": [
    "spark_flight_small = spark.read.csv('flights_small.csv', header= True)\n",
    "spark_flight_small"
   ]
  },
  {
   "cell_type": "code",
   "execution_count": 20,
   "metadata": {},
   "outputs": [],
   "source": [
    "spark_flight_small = spark_flight_small.withColumn('duration_hrs', spark_flight_small['air_time']/60)"
   ]
  },
  {
   "cell_type": "code",
   "execution_count": 30,
   "metadata": {},
   "outputs": [],
   "source": [
    "flights_further_than_1000 = spark_flight_small.filter('distance > 1000')"
   ]
  },
  {
   "cell_type": "code",
   "execution_count": 39,
   "metadata": {},
   "outputs": [
    {
     "name": "stdout",
     "output_type": "stream",
     "text": [
      "+----+-----+---+--------+---------+--------+---------+-------+-------+------+------+----+--------+--------+----+------+------------+\n",
      "|year|month|day|dep_time|dep_delay|arr_time|arr_delay|carrier|tailnum|flight|origin|dest|air_time|distance|hour|minute|duration_hrs|\n",
      "+----+-----+---+--------+---------+--------+---------+-------+-------+------+------+----+--------+--------+----+------+------------+\n",
      "|2014|    1| 22|    1040|        5|    1505|        5|     AS| N559AS|   851|   SEA| HNL|     360|    2677|  10|    40|         6.0|\n",
      "+----+-----+---+--------+---------+--------+---------+-------+-------+------+------+----+--------+--------+----+------+------------+\n",
      "only showing top 1 row\n",
      "\n"
     ]
    }
   ],
   "source": [
    "flights_further_than_1000.show(1)"
   ]
  },
  {
   "cell_type": "code",
   "execution_count": 43,
   "metadata": {},
   "outputs": [],
   "source": [
    "columns_1 = spark_flight_small.select('tailnum', 'origin', 'dest')"
   ]
  },
  {
   "cell_type": "code",
   "execution_count": 44,
   "metadata": {},
   "outputs": [
    {
     "name": "stdout",
     "output_type": "stream",
     "text": [
      "+-------+------+----+\n",
      "|tailnum|origin|dest|\n",
      "+-------+------+----+\n",
      "| N846VA|   SEA| LAX|\n",
      "| N559AS|   SEA| HNL|\n",
      "| N847VA|   SEA| SFO|\n",
      "| N360SW|   PDX| SJC|\n",
      "| N612AS|   SEA| BUR|\n",
      "+-------+------+----+\n",
      "only showing top 5 rows\n",
      "\n"
     ]
    }
   ],
   "source": [
    "columns_1.show(5)"
   ]
  },
  {
   "cell_type": "code",
   "execution_count": 69,
   "metadata": {},
   "outputs": [],
   "source": [
    "filter1 = columns_1.origin == 'SEA'\n",
    "filter2 = columns_1.dest == 'PDX'"
   ]
  },
  {
   "cell_type": "code",
   "execution_count": 70,
   "metadata": {},
   "outputs": [],
   "source": [
    "flights_SEA_to_PDX = columns_1.filter(filter1)\n",
    "flights_SEA_to_PDX = columns_1.filter(filter2)"
   ]
  },
  {
   "cell_type": "code",
   "execution_count": 71,
   "metadata": {},
   "outputs": [
    {
     "name": "stdout",
     "output_type": "stream",
     "text": [
      "23/02/06 16:00:19 WARN HeartbeatReceiver: Removing executor driver with no recent heartbeats: 15778010 ms exceeds timeout 120000 ms\n",
      "23/02/06 16:00:21 WARN SparkContext: Killing executors is not supported by current scheduler.\n"
     ]
    }
   ],
   "source": [
    "spark_flight_small = spark_flight_small.withColumn('avg_speed', spark_flight_small['distance']/spark_flight_small['duration_hrs'])"
   ]
  },
  {
   "cell_type": "code",
   "execution_count": 66,
   "metadata": {},
   "outputs": [
    {
     "data": {
      "text/plain": [
       "pyspark.sql.column.Column"
      ]
     },
     "execution_count": 66,
     "metadata": {},
     "output_type": "execute_result"
    }
   ],
   "source": [
    "type(spark_flight_small['avg_speed'])"
   ]
  },
  {
   "cell_type": "code",
   "execution_count": 68,
   "metadata": {},
   "outputs": [
    {
     "ename": "AnalysisException",
     "evalue": "Column 'language' does not exist. Did you mean one of the following? [minute, air_time, arr_time, avg_speed, carrier, day, dep_time, distance, flight, hour, month, origin, tailnum, year, dest, arr_delay, dep_delay, duration_hrs]; line 1 pos 0;\n'Project ['language, 'users_count AS count#1720]\n+- Project [year#165, month#166, day#167, dep_time#168, dep_delay#169, arr_time#170, arr_delay#171, carrier#172, tailnum#173, flight#174, origin#175, dest#176, air_time#177, distance#178, hour#179, minute#180, duration_hrs#197, (cast(distance#178 as double) / duration_hrs#197) AS avg_speed#1701]\n   +- Project [year#165, month#166, day#167, dep_time#168, dep_delay#169, arr_time#170, arr_delay#171, carrier#172, tailnum#173, flight#174, origin#175, dest#176, air_time#177, distance#178, hour#179, minute#180, duration_hrs#197, (cast(distance#178 as double) / duration_hrs#197) AS avg_speed#1287]\n      +- Project [year#165, month#166, day#167, dep_time#168, dep_delay#169, arr_time#170, arr_delay#171, carrier#172, tailnum#173, flight#174, origin#175, dest#176, air_time#177, distance#178, hour#179, minute#180, (cast(air_time#177 as double) / cast(60 as double)) AS duration_hrs#197]\n         +- Relation [year#165,month#166,day#167,dep_time#168,dep_delay#169,arr_time#170,arr_delay#171,carrier#172,tailnum#173,flight#174,origin#175,dest#176,air_time#177,distance#178,hour#179,minute#180] csv\n",
     "output_type": "error",
     "traceback": [
      "\u001b[0;31m---------------------------------------------------------------------------\u001b[0m",
      "\u001b[0;31mAnalysisException\u001b[0m                         Traceback (most recent call last)",
      "Cell \u001b[0;32mIn[68], line 1\u001b[0m\n\u001b[0;32m----> 1\u001b[0m spark_flight_small\u001b[39m.\u001b[39;49mselectExpr(\u001b[39m\"\u001b[39;49m\u001b[39mlanguage\u001b[39;49m\u001b[39m\"\u001b[39;49m,\u001b[39m\"\u001b[39;49m\u001b[39musers_count as count\u001b[39;49m\u001b[39m\"\u001b[39;49m)\n",
      "File \u001b[0;32m/usr/local/lib/python3.10/site-packages/pyspark/sql/dataframe.py:2048\u001b[0m, in \u001b[0;36mDataFrame.selectExpr\u001b[0;34m(self, *expr)\u001b[0m\n\u001b[1;32m   2046\u001b[0m \u001b[39mif\u001b[39;00m \u001b[39mlen\u001b[39m(expr) \u001b[39m==\u001b[39m \u001b[39m1\u001b[39m \u001b[39mand\u001b[39;00m \u001b[39misinstance\u001b[39m(expr[\u001b[39m0\u001b[39m], \u001b[39mlist\u001b[39m):\n\u001b[1;32m   2047\u001b[0m     expr \u001b[39m=\u001b[39m expr[\u001b[39m0\u001b[39m]  \u001b[39m# type: ignore[assignment]\u001b[39;00m\n\u001b[0;32m-> 2048\u001b[0m jdf \u001b[39m=\u001b[39m \u001b[39mself\u001b[39;49m\u001b[39m.\u001b[39;49m_jdf\u001b[39m.\u001b[39;49mselectExpr(\u001b[39mself\u001b[39;49m\u001b[39m.\u001b[39;49m_jseq(expr))\n\u001b[1;32m   2049\u001b[0m \u001b[39mreturn\u001b[39;00m DataFrame(jdf, \u001b[39mself\u001b[39m\u001b[39m.\u001b[39msparkSession)\n",
      "File \u001b[0;32m/usr/local/lib/python3.10/site-packages/py4j/java_gateway.py:1321\u001b[0m, in \u001b[0;36mJavaMember.__call__\u001b[0;34m(self, *args)\u001b[0m\n\u001b[1;32m   1315\u001b[0m command \u001b[39m=\u001b[39m proto\u001b[39m.\u001b[39mCALL_COMMAND_NAME \u001b[39m+\u001b[39m\\\n\u001b[1;32m   1316\u001b[0m     \u001b[39mself\u001b[39m\u001b[39m.\u001b[39mcommand_header \u001b[39m+\u001b[39m\\\n\u001b[1;32m   1317\u001b[0m     args_command \u001b[39m+\u001b[39m\\\n\u001b[1;32m   1318\u001b[0m     proto\u001b[39m.\u001b[39mEND_COMMAND_PART\n\u001b[1;32m   1320\u001b[0m answer \u001b[39m=\u001b[39m \u001b[39mself\u001b[39m\u001b[39m.\u001b[39mgateway_client\u001b[39m.\u001b[39msend_command(command)\n\u001b[0;32m-> 1321\u001b[0m return_value \u001b[39m=\u001b[39m get_return_value(\n\u001b[1;32m   1322\u001b[0m     answer, \u001b[39mself\u001b[39;49m\u001b[39m.\u001b[39;49mgateway_client, \u001b[39mself\u001b[39;49m\u001b[39m.\u001b[39;49mtarget_id, \u001b[39mself\u001b[39;49m\u001b[39m.\u001b[39;49mname)\n\u001b[1;32m   1324\u001b[0m \u001b[39mfor\u001b[39;00m temp_arg \u001b[39min\u001b[39;00m temp_args:\n\u001b[1;32m   1325\u001b[0m     temp_arg\u001b[39m.\u001b[39m_detach()\n",
      "File \u001b[0;32m/usr/local/lib/python3.10/site-packages/pyspark/sql/utils.py:196\u001b[0m, in \u001b[0;36mcapture_sql_exception.<locals>.deco\u001b[0;34m(*a, **kw)\u001b[0m\n\u001b[1;32m    192\u001b[0m converted \u001b[39m=\u001b[39m convert_exception(e\u001b[39m.\u001b[39mjava_exception)\n\u001b[1;32m    193\u001b[0m \u001b[39mif\u001b[39;00m \u001b[39mnot\u001b[39;00m \u001b[39misinstance\u001b[39m(converted, UnknownException):\n\u001b[1;32m    194\u001b[0m     \u001b[39m# Hide where the exception came from that shows a non-Pythonic\u001b[39;00m\n\u001b[1;32m    195\u001b[0m     \u001b[39m# JVM exception message.\u001b[39;00m\n\u001b[0;32m--> 196\u001b[0m     \u001b[39mraise\u001b[39;00m converted \u001b[39mfrom\u001b[39;00m \u001b[39mNone\u001b[39m\n\u001b[1;32m    197\u001b[0m \u001b[39melse\u001b[39;00m:\n\u001b[1;32m    198\u001b[0m     \u001b[39mraise\u001b[39;00m\n",
      "\u001b[0;31mAnalysisException\u001b[0m: Column 'language' does not exist. Did you mean one of the following? [minute, air_time, arr_time, avg_speed, carrier, day, dep_time, distance, flight, hour, month, origin, tailnum, year, dest, arr_delay, dep_delay, duration_hrs]; line 1 pos 0;\n'Project ['language, 'users_count AS count#1720]\n+- Project [year#165, month#166, day#167, dep_time#168, dep_delay#169, arr_time#170, arr_delay#171, carrier#172, tailnum#173, flight#174, origin#175, dest#176, air_time#177, distance#178, hour#179, minute#180, duration_hrs#197, (cast(distance#178 as double) / duration_hrs#197) AS avg_speed#1701]\n   +- Project [year#165, month#166, day#167, dep_time#168, dep_delay#169, arr_time#170, arr_delay#171, carrier#172, tailnum#173, flight#174, origin#175, dest#176, air_time#177, distance#178, hour#179, minute#180, duration_hrs#197, (cast(distance#178 as double) / duration_hrs#197) AS avg_speed#1287]\n      +- Project [year#165, month#166, day#167, dep_time#168, dep_delay#169, arr_time#170, arr_delay#171, carrier#172, tailnum#173, flight#174, origin#175, dest#176, air_time#177, distance#178, hour#179, minute#180, (cast(air_time#177 as double) / cast(60 as double)) AS duration_hrs#197]\n         +- Relation [year#165,month#166,day#167,dep_time#168,dep_delay#169,arr_time#170,arr_delay#171,carrier#172,tailnum#173,flight#174,origin#175,dest#176,air_time#177,distance#178,hour#179,minute#180] csv\n"
     ]
    }
   ],
   "source": [
    "# Create a new dataset with each flight's tailnum, origin, destination and full date\n",
    "cols=[\"year\",\"month\",\"day\"]\n",
    "flights = flights.withColumn(\"date\",func.concat_ws(\"-\", *cols).cast(\"date\"))\n",
    "spark_flight_small.selectExpr('tailnum', 'origin', 'dest',\"\")\n",
    "\n",
    "  Seq((\"2019-01-23\",1),(\"2019-06-24\",2),(\"2019-09-20\",3))\n",
    "    .toDF(\"date\",\"increment\")\n",
    "    .selectExpr(\"date\",\"increment\",\"add_months(to_date(date,'yyyy-MM-dd'),cast(increment as int)) as inc_date\")\n",
    "    .show()"
   ]
  },
  {
   "cell_type": "code",
   "execution_count": null,
   "metadata": {},
   "outputs": [],
   "source": []
  }
 ],
 "metadata": {
  "kernelspec": {
   "display_name": "Python 3 (ipykernel)",
   "language": "python",
   "name": "python3"
  },
  "language_info": {
   "codemirror_mode": {
    "name": "ipython",
    "version": 3
   },
   "file_extension": ".py",
   "mimetype": "text/x-python",
   "name": "python",
   "nbconvert_exporter": "python",
   "pygments_lexer": "ipython3",
   "version": "3.10.9"
  },
  "orig_nbformat": 4
 },
 "nbformat": 4,
 "nbformat_minor": 2
}
