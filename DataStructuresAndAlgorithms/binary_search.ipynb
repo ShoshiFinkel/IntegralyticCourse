{
 "cells": [
  {
   "cell_type": "code",
   "execution_count": 57,
   "metadata": {},
   "outputs": [],
   "source": [
    "import csv\n",
    "import time"
   ]
  },
  {
   "cell_type": "code",
   "execution_count": 58,
   "metadata": {},
   "outputs": [],
   "source": [
    "import csv\n",
    "with open('Credit card transactions - India - Simple - Credit card transactions - India - Simple.csv', mode='r') as f:\n",
    "    reader = csv.reader(f)\n",
    "    next(reader)\n",
    "    cities = [row[1] for row in list(reader)]"
   ]
  },
  {
   "cell_type": "code",
   "execution_count": 59,
   "metadata": {},
   "outputs": [],
   "source": [
    "target_list = []\n",
    "[target_list.append(x) for x in cities if x not in target_list]\n",
    "target_list.append('Haifa, Israel')\n",
    "target_list.append('Jerusalem, Israel')"
   ]
  },
  {
   "cell_type": "code",
   "execution_count": 60,
   "metadata": {},
   "outputs": [],
   "source": [
    "def linear_lookup(cities, target_list):\n",
    "    for city in cities:\n",
    "        if city == target_list:\n",
    "            return True\n",
    "    return None"
   ]
  },
  {
   "cell_type": "code",
   "execution_count": 61,
   "metadata": {},
   "outputs": [],
   "source": [
    "def binsearch_lookup(sorted_cities, target_list):\n",
    "    range_start = 0\n",
    "    range_end = len(sorted_cities) - 1\n",
    "    while range_start < range_end:\n",
    "        range_middle = (range_end + range_start) // 2\n",
    "        title = sorted_cities[range_middle]\n",
    "        if title == target_list:\n",
    "            return True\n",
    "        elif title < target_list:\n",
    "            range_start = range_middle + 1\n",
    "        else:\n",
    "            range_end = range_middle - 1\n",
    "    if sorted_cities[range_start] != target_list:\n",
    "        return False\n",
    "    return True"
   ]
  },
  {
   "cell_type": "code",
   "execution_count": 62,
   "metadata": {},
   "outputs": [
    {
     "name": "stdout",
     "output_type": "stream",
     "text": [
      "0.35609936714172363\n",
      "0.0069997310638427734\n"
     ]
    }
   ],
   "source": [
    "start = time.time()\n",
    "for city in target_list:\n",
    "    linear_lookup(cities, city)\n",
    "end = time.time()\n",
    "time_linear = end - start\n",
    "start = time.time()\n",
    "sorted_cities = sorted(cities)\n",
    "for city in target_list:\n",
    "    binsearch_lookup(sorted_cities, city)\n",
    "end = time.time()\n",
    "time_binsearch = end - start\n",
    "print(time_linear)\n",
    "print(time_binsearch)"
   ]
  },
  {
   "cell_type": "code",
   "execution_count": null,
   "metadata": {},
   "outputs": [],
   "source": []
  }
 ],
 "metadata": {
  "kernelspec": {
   "display_name": "base",
   "language": "python",
   "name": "python3"
  },
  "language_info": {
   "codemirror_mode": {
    "name": "ipython",
    "version": 3
   },
   "file_extension": ".py",
   "mimetype": "text/x-python",
   "name": "python",
   "nbconvert_exporter": "python",
   "pygments_lexer": "ipython3",
   "version": "3.9.13"
  },
  "orig_nbformat": 4,
  "vscode": {
   "interpreter": {
    "hash": "ad2bdc8ecc057115af97d19610ffacc2b4e99fae6737bb82f5d7fb13d2f2c186"
   }
  }
 },
 "nbformat": 4,
 "nbformat_minor": 2
}
