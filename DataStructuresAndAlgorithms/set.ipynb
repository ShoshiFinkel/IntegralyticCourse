{
 "cells": [
  {
   "cell_type": "code",
   "execution_count": 4,
   "metadata": {},
   "outputs": [],
   "source": [
    "# I will use a set to get my contact list (each one at a time) from my Gmail inbox.\n",
    "gmail_inbox = ['s0583295331@gmail.com', 'avigail5332@gmail.com', 'l0583295330@gmail.com','rk.design10@gmail.com','ganot.ben@gmail.com','rtkirs3405@gmail.com','avigailbendheim@gmail.com','s0583295331@gmail.com', 'avigail5332@gmail.com','elagan123@gmail.com','Ganot.maya@gmail.com','chavikrus@gmail.com','yuvalganot@gmail.com','l0583295330@gmail.com','mirik4@gmail.com','mk0527639567@gmail']\n",
    "contacts = set(gmail_inbox)"
   ]
  }
 ],
 "metadata": {
  "kernelspec": {
   "display_name": "base",
   "language": "python",
   "name": "python3"
  },
  "language_info": {
   "codemirror_mode": {
    "name": "ipython",
    "version": 3
   },
   "file_extension": ".py",
   "mimetype": "text/x-python",
   "name": "python",
   "nbconvert_exporter": "python",
   "pygments_lexer": "ipython3",
   "version": "3.9.13"
  },
  "orig_nbformat": 4,
  "vscode": {
   "interpreter": {
    "hash": "ad2bdc8ecc057115af97d19610ffacc2b4e99fae6737bb82f5d7fb13d2f2c186"
   }
  }
 },
 "nbformat": 4,
 "nbformat_minor": 2
}
