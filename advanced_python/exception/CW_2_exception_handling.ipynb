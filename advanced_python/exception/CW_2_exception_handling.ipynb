{
 "cells": [
  {
   "attachments": {},
   "cell_type": "markdown",
   "metadata": {},
   "source": [
    "### Exception Handling:"
   ]
  },
  {
   "attachments": {},
   "cell_type": "markdown",
   "metadata": {},
   "source": [
    "You are opening a new store! Your store sells __________________. Your job is to write a program for your new store that does the following:\n",
    "1. Tells the customer what goods can be purchased in your store. Include at least 5 items.\n",
    "2. Asks the customer for input of which item they would like to purchase, and how many of that item.\n",
    "3. Responds to the customers request with the price of the item, asks the customer for confirmation of the item, adds the item and quantity to an order list, and asks the customer if they would like to order anything else.\n",
    "4. Raise an exception if the customer inputs an item that is not part of your list.\n",
    "5. Use at least two try/excepts in your program. \n",
    "6. At the end, print out an order list with the customer's total bill. Hint: You may want to include a try/except here - when you are multiplying the item cost by the quantity, if something goes wrong with the calculation you can raise an exception error to tell the customer that there is an issue with that item and they should speak to customer service :)\n",
    "\n",
    "\n",
    "These are the basics, but be as creative as you'd like!\n",
    "Hatzlacha and have fun!"
   ]
  },
  {
   "cell_type": "code",
   "execution_count": 1,
   "metadata": {},
   "outputs": [
    {
     "name": "stdout",
     "output_type": "stream",
     "text": [
      "Hi  \n",
      "welcome to our clothing store\n",
      "Items for purchase in our store: ['socks', 'black skirt', 'blue skirt', 'shirt', 'dress', 'sweater']\n"
     ]
    }
   ],
   "source": [
    "\n",
    "customer_name = input(\"Please enter your name\")\n",
    "print('Hi', customer_name, '\\nwelcome to our clothing store')\n",
    "clothing_dict = {'socks': 12, 'black skirt': 100, 'blue skirt': 130,  'shirt': 80, 'dress': 450, 'sweater': 145}\n",
    "print('Items for purchase in our store:', [item for item in clothing_dict])\n"
   ]
  },
  {
   "cell_type": "code",
   "execution_count": 20,
   "metadata": {},
   "outputs": [
    {
     "name": "stdout",
     "output_type": "stream",
     "text": [
      "The price of socks is: 12 NIS\n",
      "The total for 1 socks is: 12 NIS\n",
      "socks socks 1 1\n",
      "if\n",
      "Your order:\n",
      "1 socks\n",
      "Total: 12\n"
     ]
    }
   ],
   "source": [
    "dic_of_order = {}\n",
    "finish = 'n'\n",
    "total = 0\n",
    "while finish != 'y':\n",
    "    num_of_items = 0\n",
    "    item_to_purch = input('Please enter the item you would like to purchase:')\n",
    "    try:\n",
    "        print(\"The price of\", item_to_purch, \"is:\", clothing_dict[item_to_purch], 'NIS')\n",
    "    except KeyError:\n",
    "        item_to_purch = input(\"Item not in store. Please enter a item from our items' list:\")\n",
    "        print(\"The price of\", item_to_purch, \"is:\", clothing_dict[item_to_purch], 'NIS')\n",
    "    try:\n",
    "        num_of_items += int(input('Please enter the amount of item you would like to purchase:'))\n",
    "        print(\"The total for\", num_of_items, item_to_purch, \"is:\", clothing_dict[item_to_purch] * num_of_items, 'NIS')\n",
    "        total += clothing_dict[item_to_purch] * num_of_items\n",
    "    except ValueError:\n",
    "        num_of_items += int(input('Not valid number. Please enter the item you would like to purchase:'))\n",
    "        print(\"The total for\", num_of_items, item_to_purch, \"is:\", clothing_dict[item_to_purch] * num_of_items, 'NIS')\n",
    "        total += clothing_dict[item_to_purch] * num_of_items\n",
    "    p_confirmation = input(\"In order to verify your purchase, please enter the product again\")\n",
    "    n_confirmation = int(input(\"In order to verify your purchase, please enter the amount again\"))\n",
    "    if p_confirmation == item_to_purch and n_confirmation == num_of_items:\n",
    "        if item_to_purch not in dic_of_order:\n",
    "            dic_of_order[item_to_purch]=num_of_items\n",
    "        else:\n",
    "            dic_of_order[item_to_purch]+=num_of_items\n",
    "    else:\n",
    "        print('The confirmation doesn\\'t match the ordered item. This item is canceled')\n",
    "    finish = input('Have you finished ordering?(y/n)')\n",
    "    while finish not in ['y','n']:\n",
    "        finish = input('Invalid input, enter y/n.')\n",
    "print('Your order:')\n",
    "for item, amount in dic_of_order.items():\n",
    "    print(amount, item)\n",
    "print('Total:', total)"
   ]
  },
  {
   "cell_type": "code",
   "execution_count": 15,
   "metadata": {},
   "outputs": [
    {
     "name": "stdout",
     "output_type": "stream",
     "text": [
      "Your order:\n",
      "{}\n",
      "Total: 193\n"
     ]
    }
   ],
   "source": [
    "print('Your order:')\n",
    "print(dic_of_order)\n",
    "for item, amount in dic_of_order.items():\n",
    "    print(amount, item, 1)\n",
    "print('Total:', total)"
   ]
  },
  {
   "cell_type": "code",
   "execution_count": null,
   "metadata": {},
   "outputs": [],
   "source": []
  }
 ],
 "metadata": {
  "kernelspec": {
   "display_name": "base",
   "language": "python",
   "name": "python3"
  },
  "language_info": {
   "name": "python",
   "version": "3.9.13"
  },
  "orig_nbformat": 4,
  "vscode": {
   "interpreter": {
    "hash": "ad2bdc8ecc057115af97d19610ffacc2b4e99fae6737bb82f5d7fb13d2f2c186"
   }
  }
 },
 "nbformat": 4,
 "nbformat_minor": 2
}
