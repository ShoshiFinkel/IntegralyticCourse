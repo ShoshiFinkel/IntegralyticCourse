{
 "cells": [
  {
   "attachments": {},
   "cell_type": "markdown",
   "metadata": {},
   "source": [
    "### Exception Handling:"
   ]
  },
  {
   "attachments": {},
   "cell_type": "markdown",
   "metadata": {},
   "source": [
    "You are opening a new store! Your store sells __________________. Your job is to write a program for your new store that does the following:\n",
    "1. Tells the customer what goods can be purchased in your store. Include at least 5 items.\n",
    "2. Asks the customer for input of which item they would like to purchase, and how many of that item.\n",
    "3. Responds to the customers request with the price of the item, asks the customer for confirmation of the item, adds the item and quantity to an order list, and asks the customer if they would like to order anything else.\n",
    "4. Raise an exception if the customer inputs an item that is not part of your list.\n",
    "5. Use at least two try/excepts in your program. \n",
    "6. At the end, print out an order list with the customer's total bill. Hint: You may want to include a try/except here - when you are multiplying the item cost by the quantity, if something goes wrong with the calculation you can raise an exception error to tell the customer that there is an issue with that item and they should speak to customer service :)\n",
    "\n",
    "\n",
    "These are the basics, but be as creative as you'd like!\n",
    "Hatzlacha and have fun!"
   ]
  },
  {
   "cell_type": "code",
   "execution_count": 3,
   "metadata": {},
   "outputs": [
    {
     "ename": "NameError",
     "evalue": "name '__file__' is not defined",
     "output_type": "error",
     "traceback": [
      "\u001b[1;31m---------------------------------------------------------------------------\u001b[0m",
      "\u001b[1;31mNameError\u001b[0m                                 Traceback (most recent call last)",
      "Cell \u001b[1;32mIn [3], line 3\u001b[0m\n\u001b[0;32m      1\u001b[0m \u001b[39mimport\u001b[39;00m \u001b[39mlogging\u001b[39;00m\n\u001b[0;32m      2\u001b[0m \u001b[39mimport\u001b[39;00m \u001b[39mos\u001b[39;00m\n\u001b[1;32m----> 3\u001b[0m CURR_DIR \u001b[39m=\u001b[39m os\u001b[39m.\u001b[39mpath\u001b[39m.\u001b[39mdirname(\u001b[39m__file__\u001b[39;49m)\n\u001b[0;32m      4\u001b[0m LOG_FOLDER \u001b[39m=\u001b[39m CURR_DIR \u001b[39m+\u001b[39m \u001b[39m'\u001b[39m\u001b[39m/logs\u001b[39m\u001b[39m'\u001b[39m\n\u001b[0;32m      5\u001b[0m logging\u001b[39m.\u001b[39mbasicConfig(filename\u001b[39m=\u001b[39m LOG_FOLDER \u001b[39m+\u001b[39m\u001b[39m'\u001b[39m\u001b[39m/my_store_logs.txt\u001b[39m\u001b[39m'\u001b[39m,\n\u001b[0;32m      6\u001b[0m filemode\u001b[39m=\u001b[39m\u001b[39m'\u001b[39m\u001b[39ma+\u001b[39m\u001b[39m'\u001b[39m,\n\u001b[0;32m      7\u001b[0m \u001b[39mformat\u001b[39m\u001b[39m=\u001b[39m\u001b[39m'\u001b[39m\u001b[39m%(asctime)s\u001b[39;00m\u001b[39m,\u001b[39m\u001b[39m%(msecs)d\u001b[39;00m\u001b[39m \u001b[39m\u001b[39m%(name)s\u001b[39;00m\u001b[39m \u001b[39m\u001b[39m%(levelname)s\u001b[39;00m\u001b[39m \u001b[39m\u001b[39m%(message)s\u001b[39;00m\u001b[39m'\u001b[39m,\n\u001b[0;32m      8\u001b[0m datefmt\u001b[39m=\u001b[39m\u001b[39m'\u001b[39m\u001b[39m%\u001b[39m\u001b[39mY-\u001b[39m\u001b[39m%\u001b[39m\u001b[39mm-\u001b[39m\u001b[39m%d\u001b[39;00m\u001b[39m \u001b[39m\u001b[39m%\u001b[39m\u001b[39mH:\u001b[39m\u001b[39m%\u001b[39m\u001b[39mM:\u001b[39m\u001b[39m%\u001b[39m\u001b[39mS\u001b[39m\u001b[39m'\u001b[39m,\n\u001b[0;32m      9\u001b[0m \u001b[39m#datefmt='%H:%M:%S',\u001b[39;00m\n\u001b[0;32m     10\u001b[0m level\u001b[39m=\u001b[39mlogging\u001b[39m.\u001b[39mINFO)\n",
      "\u001b[1;31mNameError\u001b[0m: name '__file__' is not defined"
     ]
    }
   ],
   "source": [
    "import logging\n",
    "import os\n",
    "CURR_DIR = os.path.dirname(__file__)\n",
    "LOG_FOLDER = CURR_DIR + '/logs'\n",
    "logging.basicConfig(filename= LOG_FOLDER +'/my_store_logs.txt',\n",
    "filemode='a+',\n",
    "format='%(asctime)s,%(msecs)d %(name)s %(levelname)s %(message)s',\n",
    "datefmt='%Y-%m-%d %H:%M:%S',\n",
    "#datefmt='%H:%M:%S',\n",
    "level=logging.INFO)"
   ]
  },
  {
   "cell_type": "code",
   "execution_count": 1,
   "metadata": {},
   "outputs": [
    {
     "name": "stdout",
     "output_type": "stream",
     "text": [
      "Hi 0 \n",
      "welcome to our clothing store\n",
      "Items for purchase in our store: ['socks', 'black skirt', 'blue skirt', 'shirt', 'dress', 'sweater']\n"
     ]
    }
   ],
   "source": [
    "\n",
    "customer_name = input(\"Please enter your name\")\n",
    "print('Hi', customer_name, '\\nwelcome to our clothing store')\n",
    "clothing_dict = {'socks': 12, 'black skirt': 100, 'blue skirt': 130,  'shirt': 80, 'dress': 450, 'sweater': 145}\n",
    "print('Items for purchase in our store:', [item for item in clothing_dict])\n"
   ]
  },
  {
   "cell_type": "code",
   "execution_count": 2,
   "metadata": {},
   "outputs": [
    {
     "name": "stdout",
     "output_type": "stream",
     "text": [
      "The price of socks is: 12 NIS\n",
      "The total for 2 socks is: 24 NIS\n",
      "Your order:\n",
      "2 socks\n",
      "Total: 24\n"
     ]
    }
   ],
   "source": [
    "dic_of_order = {}\n",
    "finish = 'n'\n",
    "total = 0\n",
    "while finish != 'y':\n",
    "    num_of_items = 0\n",
    "    item_to_purch = input('Please enter the item you would like to purchase:')\n",
    "    try:\n",
    "        print(\"The price of\", item_to_purch, \"is:\", clothing_dict[item_to_purch], 'NIS')\n",
    "    except KeyError:\n",
    "        item_to_purch = input(\"Item not in store. Please enter a item from our items' list:\")\n",
    "        print(\"The price of\", item_to_purch, \"is:\", clothing_dict[item_to_purch], 'NIS')\n",
    "    try:\n",
    "        num_of_items += int(input('Please enter the amount of item you would like to purchase:'))\n",
    "        print(\"The total for\", num_of_items, item_to_purch, \"is:\", clothing_dict[item_to_purch] * num_of_items, 'NIS')\n",
    "        total += clothing_dict[item_to_purch] * num_of_items\n",
    "    except ValueError:\n",
    "        num_of_items += int(input('Not valid number. Please enter the item you would like to purchase:'))\n",
    "        print(\"The total for\", num_of_items, item_to_purch, \"is:\", clothing_dict[item_to_purch] * num_of_items, 'NIS')\n",
    "        total += clothing_dict[item_to_purch] * num_of_items\n",
    "    p_confirmation = input(\"In order to verify your purchase, please enter the product again\")\n",
    "    n_confirmation = int(input(\"In order to verify your purchase, please enter the amount again\"))\n",
    "    if p_confirmation == item_to_purch and n_confirmation == num_of_items:\n",
    "        if item_to_purch not in dic_of_order:\n",
    "            dic_of_order[item_to_purch]=num_of_items\n",
    "        else:\n",
    "            dic_of_order[item_to_purch]+=num_of_items\n",
    "    else:\n",
    "        print('The confirmation doesn\\'t match the ordered item. This item is canceled')\n",
    "    finish = input('Have you finished ordering?(y/n)')\n",
    "    while finish not in ['y','n']:\n",
    "        finish = input('Invalid input, enter y/n.')\n",
    "print('Your order:')\n",
    "for item, amount in dic_of_order.items():\n",
    "    print(amount, item)\n",
    "print('Total:', total)"
   ]
  },
  {
   "cell_type": "code",
   "execution_count": null,
   "metadata": {},
   "outputs": [],
   "source": [
    "cc"
   ]
  }
 ],
 "metadata": {
  "kernelspec": {
   "display_name": "base",
   "language": "python",
   "name": "python3"
  },
  "language_info": {
   "codemirror_mode": {
    "name": "ipython",
    "version": 3
   },
   "file_extension": ".py",
   "mimetype": "text/x-python",
   "name": "python",
   "nbconvert_exporter": "python",
   "pygments_lexer": "ipython3",
   "version": "3.9.13"
  },
  "orig_nbformat": 4,
  "vscode": {
   "interpreter": {
    "hash": "ad2bdc8ecc057115af97d19610ffacc2b4e99fae6737bb82f5d7fb13d2f2c186"
   }
  }
 },
 "nbformat": 4,
 "nbformat_minor": 2
}
