{
 "cells": [
  {
   "attachments": {},
   "cell_type": "markdown",
   "metadata": {},
   "source": [
    "### List Comprehension"
   ]
  },
  {
   "cell_type": "code",
   "execution_count": 3,
   "metadata": {},
   "outputs": [
    {
     "name": "stdout",
     "output_type": "stream",
     "text": [
      "['apple', 'banana', 'mango']\n",
      "['apple', 'banana', 'mango']\n"
     ]
    }
   ],
   "source": [
    "#1. Substitute the for-loop with a list comprehension:\n",
    "\n",
    "fruits = [\"apple\", \"banana\", \"cherry\", \"kiwi\", \"mango\"]\n",
    "newlist = []\n",
    "\n",
    "for x in fruits:\n",
    "  if \"a\" in x:\n",
    "    newlist.append(x)\n",
    "\n",
    "print(newlist)\n",
    "\n",
    "lc_fruits = [fruit for fruit in fruits if \"a\" in fruit]\n",
    "print(lc_fruits)"
   ]
  },
  {
   "cell_type": "code",
   "execution_count": 4,
   "metadata": {},
   "outputs": [
    {
     "name": "stdout",
     "output_type": "stream",
     "text": [
      "['banana', 'mango']\n"
     ]
    }
   ],
   "source": [
    "#2. Modify your list comprehension to only accept items that are not \"apple\".\n",
    "lc_fruits = [fruit for fruit in fruits if \"a\" in fruit if fruit != \"apple\"]\n",
    "print(lc_fruits)\n"
   ]
  },
  {
   "cell_type": "code",
   "execution_count": 5,
   "metadata": {},
   "outputs": [
    {
     "name": "stdout",
     "output_type": "stream",
     "text": [
      "['apple', 'banana', 'cherry', 'kiwi', 'mango']\n"
     ]
    }
   ],
   "source": [
    "#3. Modify your list comprehension to exclude the \"if statement\".\n",
    "lc_fruits = [fruit for fruit in fruits]\n",
    "print(lc_fruits)"
   ]
  },
  {
   "cell_type": "code",
   "execution_count": 6,
   "metadata": {},
   "outputs": [
    {
     "name": "stdout",
     "output_type": "stream",
     "text": [
      "['h', 'u', 'm', 'a', 'n']\n"
     ]
    }
   ],
   "source": [
    "#4. Iterate through the string \"human\" using a list comprehension.\n",
    "lc_string = [c for c in \"human\"]\n",
    "print(lc_string)\n"
   ]
  },
  {
   "cell_type": "code",
   "execution_count": 7,
   "metadata": {},
   "outputs": [
    {
     "name": "stdout",
     "output_type": "stream",
     "text": [
      "[0, 2, 4, 6, 8, 10, 12, 14, 16, 18]\n"
     ]
    }
   ],
   "source": [
    "#5. Write a list comprehension where the list, \"number_list\" will be populated by the items in range from 0-19 if the item's value is divisible by 2.\n",
    "lc_numbers = [num for num in range(20) if num % 2 == 0]\n",
    "print(lc_numbers)"
   ]
  },
  {
   "cell_type": "code",
   "execution_count": 8,
   "metadata": {},
   "outputs": [
    {
     "name": "stdout",
     "output_type": "stream",
     "text": [
      "['even', 'odd', 'even', 'odd', 'even', 'odd', 'even', 'odd', 'even', 'odd']\n"
     ]
    }
   ],
   "source": [
    "#6. Write a list comprehension to check the 10 numbers from 0 to 9 (hint: use range). If the number is divisible by 2, then append \"even\" to the list. If not, append \"odd\".\n",
    "lc_odd_even = [\"even\" if num % 2 == 0 else \"odd\" for num in range(10)]\n",
    "print(lc_odd_even)"
   ]
  },
  {
   "cell_type": "code",
   "execution_count": 9,
   "metadata": {},
   "outputs": [
    {
     "name": "stdout",
     "output_type": "stream",
     "text": [
      "[3, 4, 6, 11]\n"
     ]
    }
   ],
   "source": [
    "#7. Write a list comprehension to iterate over a list and take the elements that are less than 15.\n",
    "num_list = [3, 4, 6, 11, 15, 17, 23]\n",
    "lc_num_list = [num for num in num_list if num < 15]\n",
    "print(lc_num_list)"
   ]
  },
  {
   "cell_type": "code",
   "execution_count": 10,
   "metadata": {},
   "outputs": [
    {
     "name": "stdout",
     "output_type": "stream",
     "text": [
      "['Chana', 'chava', 'Chaya']\n"
     ]
    }
   ],
   "source": [
    "#8. Write a list comprehension to iterate over a list of names and take the names that start with a \"c\" and end with an \"a\".\n",
    "import re\n",
    "names = ['Chana', 'Sara', 'Feigy', 'Chaim', 'chava', 'Chaya']\n",
    "lc_names = [name for name in names if name[0].lower()=='c' if name[-1].lower() == 'a']\n",
    "#lc_names = [name for name in names if re.match(r'^c\\w+a$', name, re.I)]\n",
    "print(lc_names)"
   ]
  },
  {
   "cell_type": "code",
   "execution_count": 11,
   "metadata": {},
   "outputs": [
    {
     "name": "stdout",
     "output_type": "stream",
     "text": [
      "[1, 2, 3, 4, 5, 2, 3, 2, 6]\n"
     ]
    }
   ],
   "source": [
    "#9. Write a nested list comprehension to that out each element from the nested lists so the desired output is: output_vals = [1,2,3,4,5,2,3,2,6]\n",
    "vals = [[1,2,3],[4,5,2],[3,2,6]]\n",
    "lc_nested_list = [num for val in vals for num in val]\n",
    "print(lc_nested_list)"
   ]
  },
  {
   "cell_type": "code",
   "execution_count": 15,
   "metadata": {},
   "outputs": [
    {
     "name": "stdout",
     "output_type": "stream",
     "text": [
      "[[0, ['b', 'l', 'u', 'e']], [0, ['y', 'e', 'l', 'l', 'o', 'w']], [1, ['r', 'e', 'd']], [2, ['r', 'e', 'd']], [2, ['p', 'i', 'n', 'k']]]\n"
     ]
    }
   ],
   "source": [
    "#10. Challenge: Write a nested list comprehension for the following scenario:\n",
    "# We have a list of lists of words and we want to get a list of all the letters of these words along with the index of the list they belong to but only for words with more than two characters.\n",
    "\n",
    "word_list = [['blue', 'gr', 'yellow'], ['red', 'bl', 'gr'], ['red', 'bl', 'pink']]\n",
    "#lc_nestedl = [(index, letter) for index, alist in enumerate(word_list) for word in alist if len(word) > 2 for letter in word]\n",
    "lc_nestedl = [[index, [letter for letter in word]] for index, alist in enumerate(word_list) for word in alist if len(word) > 2]\n",
    "print(lc_nestedl)\n"
   ]
  },
  {
   "cell_type": "code",
   "execution_count": null,
   "metadata": {},
   "outputs": [],
   "source": []
  }
 ],
 "metadata": {
  "kernelspec": {
   "display_name": "base",
   "language": "python",
   "name": "python3"
  },
  "language_info": {
   "codemirror_mode": {
    "name": "ipython",
    "version": 3
   },
   "file_extension": ".py",
   "mimetype": "text/x-python",
   "name": "python",
   "nbconvert_exporter": "python",
   "pygments_lexer": "ipython3",
   "version": "3.9.13 (main, Aug 25 2022, 23:51:50) [MSC v.1916 64 bit (AMD64)]"
  },
  "orig_nbformat": 4,
  "vscode": {
   "interpreter": {
    "hash": "ad2bdc8ecc057115af97d19610ffacc2b4e99fae6737bb82f5d7fb13d2f2c186"
   }
  }
 },
 "nbformat": 4,
 "nbformat_minor": 2
}
