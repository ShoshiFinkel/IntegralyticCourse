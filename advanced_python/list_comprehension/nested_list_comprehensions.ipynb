{
 "cells": [
  {
   "attachments": {},
   "cell_type": "markdown",
   "metadata": {},
   "source": [
    "### Nested List Comprehensions"
   ]
  },
  {
   "cell_type": "code",
   "execution_count": 9,
   "metadata": {},
   "outputs": [
    {
     "name": "stdout",
     "output_type": "stream",
     "text": [
      "[1, 2, 3, 4, 5, 2, 3, 2, 6]\n"
     ]
    }
   ],
   "source": [
    "#1. Write a nested list comprehension to take out each element from the nested lists so the desired output is: output_vals = [1,2,3,4,5,2,3,2,6]\n",
    "vals = [[1,2,3],[4,5,2],[3,2,6]]\n",
    "lc_nested_list = [num for val in vals for num in val]\n",
    "print(lc_nested_list)"
   ]
  },
  {
   "cell_type": "code",
   "execution_count": 13,
   "metadata": {},
   "outputs": [
    {
     "name": "stdout",
     "output_type": "stream",
     "text": [
      "['x', 'p', 'p', 'l', 'x', 'x', 'r', 'x', 'n', 'g', 'x', 'b', 'x', 'n', 'x', 'n', 'x', 'p', 'x', 'x', 'r', 'k', 'x', 'w', 'x', 'm', 'x', 'n', 'g', 'x']\n"
     ]
    }
   ],
   "source": [
    "#2 Convert to list comprehension:\n",
    "constant_list=[]\n",
    "my_list=['apple', 'orange', 'banana', 'pear', 'kiwi', 'mango']\n",
    "for word in my_list:\n",
    "    for letter in word:\n",
    "        if letter not in r'[aioue]':\n",
    "            constant_list.append(letter)\n",
    "        else:\n",
    "            constant_list.append('x')\n",
    "\n",
    "lc_constant_list = [letter if letter not in r'[aioue]' else 'x' for word in my_list for letter in word]\n",
    "print(lc_constant_list)"
   ]
  },
  {
   "cell_type": "code",
   "execution_count": 14,
   "metadata": {},
   "outputs": [
    {
     "name": "stdout",
     "output_type": "stream",
     "text": [
      "[4, 16, 36, 64, 100, 144, 196, 256, 324, 400]\n"
     ]
    }
   ],
   "source": [
    "#3. Write a nested list comprehension to return the square of all even numbers in Numbers.\n",
    "\n",
    "Numbers = [[1,2,3,4,5,6,7,8,9,10],[11,12,13,14,15,16,17,18,19,20]]\n",
    "even_square = [num ** 2 for a_list in Numbers for num in a_list if num % 2 == 0]\n",
    "print(even_square)"
   ]
  },
  {
   "cell_type": "code",
   "execution_count": 15,
   "metadata": {},
   "outputs": [
    {
     "name": "stdout",
     "output_type": "stream",
     "text": [
      "[10, 20, 30, 40]\n"
     ]
    }
   ],
   "source": [
    "#4. Write a nested list comprhension to take each element in nested_list and multiply it by 5, only if the element is divisible by 2.\n",
    "\n",
    "nested_list = [[1,2,3],[4,5,6],[7,8,9]]\n",
    "even_times_5 = [num * 5 for a_list in nested_list for num in a_list if num % 2 == 0]\n",
    "print(even_times_5)"
   ]
  },
  {
   "cell_type": "code",
   "execution_count": 22,
   "metadata": {},
   "outputs": [],
   "source": [
    "#5. In your own words, explain what the following list comprehension \"does\":\n",
    "# Create a list with all even numbers from the range 1 to 10.\n",
    "matrix = [x for x in range(1,10) if x%2 == 0]"
   ]
  },
  {
   "cell_type": "code",
   "execution_count": 19,
   "metadata": {},
   "outputs": [
    {
     "name": "stdout",
     "output_type": "stream",
     "text": [
      "['January', 'June', 'July']\n"
     ]
    }
   ],
   "source": [
    "#6. Write a nested list comprehension with an if condition:\n",
    "months = [['January', 'February', 'March'], ['April', 'May', 'June'], ['July', 'August', 'September'],['October','November','December']]\n",
    "j_months = [month for a_list in months for month in a_list if month.lower().startswith('j')]\n",
    "print(j_months)\n"
   ]
  },
  {
   "cell_type": "code",
   "execution_count": 31,
   "metadata": {},
   "outputs": [
    {
     "name": "stdout",
     "output_type": "stream",
     "text": [
      "[7, 6]\n"
     ]
    }
   ],
   "source": [
    "#7. Write a list comprehension with a condition to take numbers greater than 4 and another condition to omit numbers smaller than eight.\n",
    "num_list = [4, 11, 2, 19, 7, 6, 25, 12]\n",
    "lc_num_list = [num for num in num_list if num > 4 if num < 8]\n",
    "print(lc_num_list)"
   ]
  },
  {
   "cell_type": "code",
   "execution_count": 38,
   "metadata": {},
   "outputs": [
    {
     "name": "stdout",
     "output_type": "stream",
     "text": [
      "[('b', 0), ('l', 0), ('u', 0), ('e', 0), ('y', 0), ('e', 0), ('l', 0), ('l', 0), ('o', 0), ('w', 0), ('r', 1), ('e', 1), ('d', 1), ('r', 2), ('e', 2), ('d', 2), ('p', 2), ('i', 2), ('n', 2), ('k', 2)]\n",
      "[[0, ['b', 'l', 'u', 'e']], [0, ['y', 'e', 'l', 'l', 'o', 'w']], [1, ['r', 'e', 'd']], [2, ['r', 'e', 'd']], [2, ['p', 'i', 'n', 'k']]]\n"
     ]
    }
   ],
   "source": [
    "#8-CHALLENGE  Write a nested list comprehension for the following scenario:\n",
    "# We have a list of lists of words and we want to get a list of all the letters of these words along with the index of the list they belong to but only for words with more than two characters.\n",
    "word_list = [['blue', 'gr', 'yellow'], ['red', 'bl', 'gr'], ['red', 'bl', 'pink']]\n",
    "lc_nestedl = [(letter, i) for i, a_list in enumerate(word_list) for word in a_list for letter in word if len(word) > 2]\n",
    "lc_nested_lol = [[index, [letter for letter in word]] for index, alist in enumerate(word_list) for word in alist if len(word) > 2]\n",
    "print(lc_nestedl)\n",
    "print(lc_nested_lol)"
   ]
  }
 ],
 "metadata": {
  "kernelspec": {
   "display_name": "base",
   "language": "python",
   "name": "python3"
  },
  "language_info": {
   "codemirror_mode": {
    "name": "ipython",
    "version": 3
   },
   "file_extension": ".py",
   "mimetype": "text/x-python",
   "name": "python",
   "nbconvert_exporter": "python",
   "pygments_lexer": "ipython3",
   "version": "3.9.13"
  },
  "orig_nbformat": 4,
  "vscode": {
   "interpreter": {
    "hash": "ad2bdc8ecc057115af97d19610ffacc2b4e99fae6737bb82f5d7fb13d2f2c186"
   }
  }
 },
 "nbformat": 4,
 "nbformat_minor": 2
}
