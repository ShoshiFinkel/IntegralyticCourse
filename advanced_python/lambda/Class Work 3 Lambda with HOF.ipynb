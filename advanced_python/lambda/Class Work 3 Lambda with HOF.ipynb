{
 "cells": [
  {
   "attachments": {},
   "cell_type": "markdown",
   "metadata": {},
   "source": [
    "##  Lambdas with Higher Order Functions (filter(), map(), apply())"
   ]
  },
  {
   "attachments": {},
   "cell_type": "markdown",
   "metadata": {},
   "source": [
    "Instructions: Work through the following questions. You can use the slides and deepnote examples as a guide. \n",
    "Hatzlacha! When you are finished, please push your work to git and add ruchifeldman and estherdonnenbaum as a  collaborator."
   ]
  },
  {
   "cell_type": "code",
   "execution_count": 59,
   "metadata": {},
   "outputs": [
    {
     "data": {
      "text/plain": [
       "[4, 6, 8, 12]"
      ]
     },
     "execution_count": 59,
     "metadata": {},
     "output_type": "execute_result"
    }
   ],
   "source": [
    "#1 Write code to filter out only the even items from a list\n",
    "my_list = [1, 5, 4, 6, 8, 11, 3, 12]\n",
    "list(filter(lambda x: x % 2 == 0, my_list))"
   ]
  },
  {
   "cell_type": "code",
   "execution_count": 60,
   "metadata": {},
   "outputs": [
    {
     "data": {
      "text/plain": [
       "[2, 10, 8, 12, 16, 22, 6, 24]"
      ]
     },
     "execution_count": 60,
     "metadata": {},
     "output_type": "execute_result"
    }
   ],
   "source": [
    "#2 write code to double each item in a list using map()\n",
    "\n",
    "my_list = [1, 5, 4, 6, 8, 11, 3, 12]\n",
    "list(map(lambda x: x * 2, my_list))"
   ]
  },
  {
   "cell_type": "code",
   "execution_count": 61,
   "metadata": {},
   "outputs": [
    {
     "data": {
      "text/plain": [
       "[3, 42, 18, 27, 36]"
      ]
     },
     "execution_count": 61,
     "metadata": {},
     "output_type": "execute_result"
    }
   ],
   "source": [
    "#3 write code to select numbers that are divisible by 3 from the list\n",
    "\n",
    "my_list = [3, 42, 18, 26, 11,27, 14, 5,36]\n",
    "list(filter(lambda x: x % 3 == 0, my_list))"
   ]
  },
  {
   "cell_type": "code",
   "execution_count": 62,
   "metadata": {},
   "outputs": [
    {
     "data": {
      "text/plain": [
       "[3, 2, 1, 4, 2]"
      ]
     },
     "execution_count": 62,
     "metadata": {},
     "output_type": "execute_result"
    }
   ],
   "source": [
    "#4 write code to count the length of the numbers in a list. Return a list of the lengths.\n",
    "\n",
    "my_list = [123, 56, 2, 8695, 26]\n",
    "list(map(lambda x: len(str(x)),my_list))"
   ]
  },
  {
   "cell_type": "code",
   "execution_count": 63,
   "metadata": {},
   "outputs": [
    {
     "data": {
      "text/plain": [
       "['APPLE', 'ORANGE', 'BANANA', 'PEAR', 'MANGO', 'KIWI']"
      ]
     },
     "execution_count": 63,
     "metadata": {},
     "output_type": "execute_result"
    }
   ],
   "source": [
    "#5 write code to convert all words in the list to upper case\n",
    "\n",
    "my_list = ['apple', 'orange', 'banana', 'pear', 'mango', 'kiwi']\n",
    "list(map(lambda x: x.upper(), my_list))"
   ]
  },
  {
   "cell_type": "code",
   "execution_count": 64,
   "metadata": {},
   "outputs": [
    {
     "data": {
      "text/plain": [
       "['pear', 'Ruchi', 'chair']"
      ]
     },
     "execution_count": 64,
     "metadata": {},
     "output_type": "execute_result"
    }
   ],
   "source": [
    "#6 Write code to filter words that contain the letter 'r' from the list, any case\n",
    "my_list = ['pear', 'Ruchi', 'belt', 'chair', 'notes', 'date']\n",
    "list(filter(lambda x: 'r' in x.lower(), my_list))"
   ]
  },
  {
   "cell_type": "code",
   "execution_count": 65,
   "metadata": {},
   "outputs": [],
   "source": [
    "#run this cell and use this df to answer the following questions\n",
    "import pandas as pd\n",
    "\n",
    "df = pd.DataFrame(\n",
    "    {\"title\": [\"Nor The Moon\", \"Why it Didn't Happen\", \"Expelled\", \"Not As It Seemed\", \"Random DIY Crafts\", \"Senora\"],\n",
    "     \"Author\": ['C. Green', 'Simon James', 'W. Wright', 'Hellen Kay', 'R. Farno', 'Jacob Blau'],\n",
    "     \"Pages\": [450, 120, 682, 210, 75, 302],\n",
    "     \"Publisher\": ['PG', 'Feldheim', 'Menucha', 'Ladybird', 'DSB', 'PG']\n",
    "\n",
    "    }\n",
    ")"
   ]
  },
  {
   "cell_type": "code",
   "execution_count": 66,
   "metadata": {},
   "outputs": [],
   "source": [
    "#7 Write code to multiply the number of pages by two\n",
    "df['Multiplied Pages'] = df['Pages'].apply(lambda x: x * 2)"
   ]
  },
  {
   "cell_type": "code",
   "execution_count": 67,
   "metadata": {},
   "outputs": [
    {
     "data": {
      "text/html": [
       "<div>\n",
       "<style scoped>\n",
       "    .dataframe tbody tr th:only-of-type {\n",
       "        vertical-align: middle;\n",
       "    }\n",
       "\n",
       "    .dataframe tbody tr th {\n",
       "        vertical-align: top;\n",
       "    }\n",
       "\n",
       "    .dataframe thead th {\n",
       "        text-align: right;\n",
       "    }\n",
       "</style>\n",
       "<table border=\"1\" class=\"dataframe\">\n",
       "  <thead>\n",
       "    <tr style=\"text-align: right;\">\n",
       "      <th></th>\n",
       "      <th>title</th>\n",
       "      <th>Author</th>\n",
       "      <th>Pages</th>\n",
       "      <th>Publisher</th>\n",
       "      <th>Multiplied Pages</th>\n",
       "    </tr>\n",
       "  </thead>\n",
       "  <tbody>\n",
       "    <tr>\n",
       "      <th>0</th>\n",
       "      <td>Nor The Moon</td>\n",
       "      <td>c. green</td>\n",
       "      <td>450</td>\n",
       "      <td>PG</td>\n",
       "      <td>900</td>\n",
       "    </tr>\n",
       "    <tr>\n",
       "      <th>1</th>\n",
       "      <td>Why it Didn't Happen</td>\n",
       "      <td>simon james</td>\n",
       "      <td>120</td>\n",
       "      <td>Feldheim</td>\n",
       "      <td>240</td>\n",
       "    </tr>\n",
       "    <tr>\n",
       "      <th>2</th>\n",
       "      <td>Expelled</td>\n",
       "      <td>w. wright</td>\n",
       "      <td>682</td>\n",
       "      <td>Menucha</td>\n",
       "      <td>1364</td>\n",
       "    </tr>\n",
       "    <tr>\n",
       "      <th>3</th>\n",
       "      <td>Not As It Seemed</td>\n",
       "      <td>hellen kay</td>\n",
       "      <td>210</td>\n",
       "      <td>Ladybird</td>\n",
       "      <td>420</td>\n",
       "    </tr>\n",
       "    <tr>\n",
       "      <th>4</th>\n",
       "      <td>Random DIY Crafts</td>\n",
       "      <td>r. farno</td>\n",
       "      <td>75</td>\n",
       "      <td>DSB</td>\n",
       "      <td>150</td>\n",
       "    </tr>\n",
       "    <tr>\n",
       "      <th>5</th>\n",
       "      <td>Senora</td>\n",
       "      <td>jacob blau</td>\n",
       "      <td>302</td>\n",
       "      <td>PG</td>\n",
       "      <td>604</td>\n",
       "    </tr>\n",
       "  </tbody>\n",
       "</table>\n",
       "</div>"
      ],
      "text/plain": [
       "                  title       Author  Pages Publisher  Multiplied Pages\n",
       "0          Nor The Moon     c. green    450        PG               900\n",
       "1  Why it Didn't Happen  simon james    120  Feldheim               240\n",
       "2              Expelled    w. wright    682   Menucha              1364\n",
       "3      Not As It Seemed   hellen kay    210  Ladybird               420\n",
       "4     Random DIY Crafts     r. farno     75       DSB               150\n",
       "5                Senora   jacob blau    302        PG               604"
      ]
     },
     "execution_count": 67,
     "metadata": {},
     "output_type": "execute_result"
    }
   ],
   "source": [
    "#8 Write code change authors names to lowercase\n",
    "df['Author'] = df[\"Author\"].apply(lambda x: x.lower())\n",
    "df"
   ]
  },
  {
   "cell_type": "code",
   "execution_count": 68,
   "metadata": {},
   "outputs": [
    {
     "data": {
      "text/html": [
       "<div>\n",
       "<style scoped>\n",
       "    .dataframe tbody tr th:only-of-type {\n",
       "        vertical-align: middle;\n",
       "    }\n",
       "\n",
       "    .dataframe tbody tr th {\n",
       "        vertical-align: top;\n",
       "    }\n",
       "\n",
       "    .dataframe thead th {\n",
       "        text-align: right;\n",
       "    }\n",
       "</style>\n",
       "<table border=\"1\" class=\"dataframe\">\n",
       "  <thead>\n",
       "    <tr style=\"text-align: right;\">\n",
       "      <th></th>\n",
       "      <th>title</th>\n",
       "      <th>Author</th>\n",
       "      <th>Pages</th>\n",
       "      <th>Publisher</th>\n",
       "      <th>Multiplied Pages</th>\n",
       "    </tr>\n",
       "  </thead>\n",
       "  <tbody>\n",
       "    <tr>\n",
       "      <th>1</th>\n",
       "      <td>Why it Didn't Happen</td>\n",
       "      <td>simon james</td>\n",
       "      <td>120</td>\n",
       "      <td>Feldheim</td>\n",
       "      <td>240</td>\n",
       "    </tr>\n",
       "    <tr>\n",
       "      <th>3</th>\n",
       "      <td>Not As It Seemed</td>\n",
       "      <td>hellen kay</td>\n",
       "      <td>210</td>\n",
       "      <td>Ladybird</td>\n",
       "      <td>420</td>\n",
       "    </tr>\n",
       "  </tbody>\n",
       "</table>\n",
       "</div>"
      ],
      "text/plain": [
       "                  title       Author  Pages Publisher  Multiplied Pages\n",
       "1  Why it Didn't Happen  simon james    120  Feldheim               240\n",
       "3      Not As It Seemed   hellen kay    210  Ladybird               420"
      ]
     },
     "execution_count": 68,
     "metadata": {},
     "output_type": "execute_result"
    }
   ],
   "source": [
    "# CHALLENGE\n",
    "#Write code to select only the rows where the 'title' is more that four words. Assign those rows to a new dataframe\n",
    "new_df = df[df[\"title\"].apply(lambda x: len(x.split()) >= 4)]\n",
    "new_df"
   ]
  },
  {
   "cell_type": "code",
   "execution_count": null,
   "metadata": {},
   "outputs": [],
   "source": []
  }
 ],
 "metadata": {
  "kernelspec": {
   "display_name": "base",
   "language": "python",
   "name": "python3"
  },
  "language_info": {
   "codemirror_mode": {
    "name": "ipython",
    "version": 3
   },
   "file_extension": ".py",
   "mimetype": "text/x-python",
   "name": "python",
   "nbconvert_exporter": "python",
   "pygments_lexer": "ipython3",
   "version": "3.9.13"
  },
  "orig_nbformat": 4,
  "vscode": {
   "interpreter": {
    "hash": "ad2bdc8ecc057115af97d19610ffacc2b4e99fae6737bb82f5d7fb13d2f2c186"
   }
  }
 },
 "nbformat": 4,
 "nbformat_minor": 2
}
