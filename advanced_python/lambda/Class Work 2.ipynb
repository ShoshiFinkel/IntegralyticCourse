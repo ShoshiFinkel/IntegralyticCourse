{
 "cells": [
  {
   "attachments": {},
   "cell_type": "markdown",
   "metadata": {},
   "source": [
    "### Lambda Functions 2"
   ]
  },
  {
   "attachments": {},
   "cell_type": "markdown",
   "metadata": {},
   "source": [
    "Instructions: Work through the following questions. The first one has been done for you. You can use the slides and deepnote examples as a guide. \n",
    "Hatzlacha! When you are finished, please push your work to git and add ruchifeldman and edonnenbaum as a  collaborator."
   ]
  },
  {
   "cell_type": "code",
   "execution_count": null,
   "metadata": {},
   "outputs": [],
   "source": [
    "#1. Define a lambda function that prints \"Hello my name is _________ (fill in your name here)\" and assign it to the variable \"my_name\".\n",
    "my_name = lambda : print('Hello my name is Ruchi')\n",
    "my_name()"
   ]
  },
  {
   "cell_type": "code",
   "execution_count": 1,
   "metadata": {},
   "outputs": [
    {
     "name": "stdout",
     "output_type": "stream",
     "text": [
      "Hello my name is Shoshi\n"
     ]
    }
   ],
   "source": [
    "#2. Define a lambda function that prints \"Hello my name is _________ (fill in your name here)\" and assign it to the variable \"my_name2\". In this example your lambda function should accept the argument named \"name\".\n",
    "my_name2 = lambda name: print(\"Hello my name is \" + name)\n",
    "my_name2(\"Shoshi\")"
   ]
  },
  {
   "cell_type": "code",
   "execution_count": 3,
   "metadata": {},
   "outputs": [],
   "source": [
    "#3. Rewrite the following function using a lambda: \n",
    "\n",
    "def add_one(x):\n",
    "    return x + 1\n",
    "\n",
    "l_add_one = lambda x: x + 1"
   ]
  },
  {
   "cell_type": "code",
   "execution_count": 5,
   "metadata": {},
   "outputs": [
    {
     "data": {
      "text/plain": [
       "0.2"
      ]
     },
     "execution_count": 5,
     "metadata": {},
     "output_type": "execute_result"
    }
   ],
   "source": [
    "#4. Define the following lambda function: \n",
    "# Save a variable \"a\"  and an expression as a/10. \n",
    "# If variable \"a\" is less than 20, the code will divide it by 10. \n",
    "# Otherwise, it will print the variable value. \n",
    "# Call the function, setting the parameter a = 2 to call the function.\n",
    "(lambda a: a/10 if a < 20 else print(a))(2)"
   ]
  },
  {
   "cell_type": "code",
   "execution_count": 5,
   "metadata": {},
   "outputs": [
    {
     "data": {
      "text/plain": [
       "'8 is even'"
      ]
     },
     "execution_count": 5,
     "metadata": {},
     "output_type": "execute_result"
    }
   ],
   "source": [
    "#5. Use a lambda function to determine whether a specified integer is odd or even. Hint: use \"number\" as an argument in your function.\n",
    "# Your output should print the inputted number and whether it is odd or even.\n",
    "# To start you off: \n",
    "number = int(input('Please provide any number: '))\n",
    "odd_or_even = lambda number: str(number) + \" is even\" if number % 2 == 0 else str(number) + \" is odd\"\n",
    "odd_or_even(number)"
   ]
  },
  {
   "cell_type": "code",
   "execution_count": 12,
   "metadata": {},
   "outputs": [
    {
     "data": {
      "text/plain": [
       "'winter'"
      ]
     },
     "execution_count": 12,
     "metadata": {},
     "output_type": "execute_result"
    }
   ],
   "source": [
    "#6. Write your own function. Then convert it to a lambda.\n",
    "def winter_or_summer(num_month):\n",
    "    if num_month >= 10 or num_month <= 3:\n",
    "        return \"winter\"\n",
    "    else:\n",
    "        return \"summer\"\n",
    "\n",
    "   \n",
    "(lambda num_month: \"winter\" if num_month >= 10 or num_month <= 3 else \"summer\")(2)"
   ]
  },
  {
   "cell_type": "code",
   "execution_count": 15,
   "metadata": {},
   "outputs": [
    {
     "data": {
      "text/plain": [
       "48"
      ]
     },
     "execution_count": 15,
     "metadata": {},
     "output_type": "execute_result"
    }
   ],
   "source": [
    "#7. # Create a lambda function with if, elif & else:\n",
    "# If the given value is less than 10 then Multiplies it by 2\n",
    "# else if it's between 10 to 20 the multiplies it by 3\n",
    "# else returns the unmodified same value\n",
    "(lambda num: num * 2 if num < 10 else (num * 3 if num >= 10 and num <= 20 else num))(16)"
   ]
  },
  {
   "cell_type": "code",
   "execution_count": 18,
   "metadata": {},
   "outputs": [
    {
     "data": {
      "text/plain": [
       "False"
      ]
     },
     "execution_count": 18,
     "metadata": {},
     "output_type": "execute_result"
    }
   ],
   "source": [
    "#8. Create a lambda function to check if a given value is between 11 to 22.\n",
    "#Return True or False\n",
    "\n",
    "(lambda num: True if num >= 11 and num <= 22 else False)(2)"
   ]
  },
  {
   "cell_type": "code",
   "execution_count": null,
   "metadata": {},
   "outputs": [],
   "source": []
  }
 ],
 "metadata": {
  "kernelspec": {
   "display_name": "base",
   "language": "python",
   "name": "python3"
  },
  "language_info": {
   "codemirror_mode": {
    "name": "ipython",
    "version": 3
   },
   "file_extension": ".py",
   "mimetype": "text/x-python",
   "name": "python",
   "nbconvert_exporter": "python",
   "pygments_lexer": "ipython3",
   "version": "3.9.13 (main, Aug 25 2022, 23:51:50) [MSC v.1916 64 bit (AMD64)]"
  },
  "orig_nbformat": 4,
  "vscode": {
   "interpreter": {
    "hash": "ad2bdc8ecc057115af97d19610ffacc2b4e99fae6737bb82f5d7fb13d2f2c186"
   }
  }
 },
 "nbformat": 4,
 "nbformat_minor": 2
}
