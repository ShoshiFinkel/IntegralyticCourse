{
 "cells": [
  {
   "attachments": {},
   "cell_type": "markdown",
   "metadata": {},
   "source": [
    "### Regex Practice"
   ]
  },
  {
   "cell_type": "code",
   "execution_count": 1,
   "metadata": {},
   "outputs": [],
   "source": [
    "#import the neccessary libary\n",
    "import re"
   ]
  },
  {
   "cell_type": "code",
   "execution_count": 2,
   "metadata": {},
   "outputs": [],
   "source": [
    "#1. Check whether the given strings contain 0xB0. Display the answer as a boolean result.\n",
    "ln1 = 'start address: 0xA0, func1 address: 0xC0'\n",
    "ln2 = 'end address: 0xFF, func2 address: 0xB0'"
   ]
  },
  {
   "cell_type": "code",
   "execution_count": 6,
   "metadata": {},
   "outputs": [
    {
     "name": "stdout",
     "output_type": "stream",
     "text": [
      "False\n",
      "True\n"
     ]
    }
   ],
   "source": [
    "bool_ln1 = bool(re.findall(r'0xB0', ln1))\n",
    "bool_ln2 = bool(re.findall(r'0xB0', ln2))\n",
    "print(bool_ln1)\n",
    "print(bool_ln2)"
   ]
  },
  {
   "cell_type": "code",
   "execution_count": 9,
   "metadata": {},
   "outputs": [
    {
     "data": {
      "text/plain": [
       "'They ate five apples and five oranges'"
      ]
     },
     "execution_count": 9,
     "metadata": {},
     "output_type": "execute_result"
    }
   ],
   "source": [
    "#2. Replace all occurrences of 5 with five for the given string.\n",
    "replace_all_fives = 'They ate 5 apples and 5 oranges'\n",
    "after_replace = re.sub(r'5', 'five', replace_all_fives)\n",
    "after_replace"
   ]
  },
  {
   "cell_type": "code",
   "execution_count": 10,
   "metadata": {},
   "outputs": [
    {
     "data": {
      "text/plain": [
       "'They ate five apples and 5 oranges'"
      ]
     },
     "execution_count": 10,
     "metadata": {},
     "output_type": "execute_result"
    }
   ],
   "source": [
    "#3. Replace only the first occurrence of 5 with five for the given string.\n",
    "replace_first_five = 'They ate 5 apples and 5 oranges'\n",
    "after_one_replace = re.sub(r'5', 'five', replace_all_fives, 1)\n",
    "after_one_replace"
   ]
  },
  {
   "cell_type": "code",
   "execution_count": 27,
   "metadata": {},
   "outputs": [
    {
     "name": "stdout",
     "output_type": "stream",
     "text": [
      "['NEW', 'user', 'eat', 'dinner']\n"
     ]
    }
   ],
   "source": [
    "#4. For the given list, return a list of  all elements that contain the letter E or e.\n",
    "\n",
    "items = ['goal', 'NEW', 'user', 'sit', 'eat', 'dinner']\n",
    "e_items = [item for item in items if bool(re.search(r'e', item, re.I))]\n",
    "print(e_items)"
   ]
  },
  {
   "cell_type": "code",
   "execution_count": 18,
   "metadata": {},
   "outputs": [
    {
     "name": "stdout",
     "output_type": "stream",
     "text": [
      "True False True False\n"
     ]
    }
   ],
   "source": [
    "#5. Check if the given strings start with be.\n",
    "line1 = 'be nice'\n",
    "line2 = '\"best!\"'\n",
    "line3 = 'better?'\n",
    "line4 = 'oh no\\nbear spotted'\n",
    "start_with_be_1 = bool(re.search(r'^be', line1))\n",
    "start_with_be_2 = bool(re.search(r'^be', line2))\n",
    "start_with_be_3 = bool(re.search(r'^be', line3))\n",
    "start_with_be_4 = bool(re.search(r'^be', line4))\n",
    "print(start_with_be_1, start_with_be_2, start_with_be_3, start_with_be_4)"
   ]
  },
  {
   "cell_type": "code",
   "execution_count": 22,
   "metadata": {},
   "outputs": [
    {
     "data": {
      "text/plain": [
       "'bred brown spread credible brown.'"
      ]
     },
     "execution_count": 22,
     "metadata": {},
     "output_type": "execute_result"
    }
   ],
   "source": [
    "#6. For the given input string, change only the whole word red to brown.\n",
    "change_word = 'bred red spread credible red.'\n",
    "changed = re.sub(r'\\bred\\b', 'brown', change_word)\n",
    "changed"
   ]
  },
  {
   "cell_type": "code",
   "execution_count": 29,
   "metadata": {},
   "outputs": [
    {
     "name": "stdout",
     "output_type": "stream",
     "text": [
      "nice1423\n"
     ]
    }
   ],
   "source": [
    "#7. For the given input list, filter all elements that contain 42 surrounded by more digits.\n",
    "words = ['hi42bye', 'nice1423', 'bad42', 'cool_42a', 'fake42', '_42_']\n",
    "for word in words:\n",
    "   if bool(re.search(r'\\d42\\d', word)):\n",
    "         print(word)"
   ]
  },
  {
   "cell_type": "code",
   "execution_count": 31,
   "metadata": {},
   "outputs": [
    {
     "name": "stdout",
     "output_type": "stream",
     "text": [
      "['franky@google.com', 'sinatra123@yahoo.com']\n"
     ]
    }
   ],
   "source": [
    "#8. Write a regex so that the full email addresses are extracted. i.e.: mike@protonmail.com\n",
    "\n",
    "str = 'The advancements in biomarine studies franky@google.com with the investments necessary and Davos sinatra123@yahoo.com Then The New Yorker article on wind farms...'\n",
    "import re\n",
    "regex = r'\\b\\S+@\\S+\\.\\S+\\b'\n",
    "full_email = re.findall(regex, str)\n",
    "\n",
    "print(full_email)"
   ]
  },
  {
   "cell_type": "code",
   "execution_count": 32,
   "metadata": {},
   "outputs": [
    {
     "name": "stdout",
     "output_type": "stream",
     "text": [
      "['franky@', 'sinatra123@']\n"
     ]
    }
   ],
   "source": [
    "#9. This time write a regex to get only the part of the email before the \"@\" sign and include the \"@\" sign. i.e: only mike@ part from mike@protonmail.com\n",
    "\n",
    "str = 'The advancements in biomarine studies franky@google.com, with the investments necessary and Davos sinatra123@yahoo.com Then The New Yorker article on wind farms...'\n",
    "\n",
    "regex = r'\\b\\S+@'\n",
    "email_before = re.findall(regex, str)\n",
    "\n",
    "print(email_before)"
   ]
  },
  {
   "cell_type": "code",
   "execution_count": 1,
   "metadata": {},
   "outputs": [
    {
     "name": "stdout",
     "output_type": "stream",
     "text": [
      "['palmiers']\n"
     ]
    }
   ],
   "source": [
    "#10. Find the words with exactly 8 letters using regex.\n",
    "\n",
    "import re\n",
    "\n",
    "str ='''Au pays parfume que le soleil caresse,\n",
    "J'ai connu, sous un dais d'arbres tout empourpres\n",
    "Et de palmiers d'ou pleut sur les yeux la paresse,\n",
    "Une dame creole aux charmes ignores.'''\n",
    "\n",
    "regex = r'\\b\\w{8}\\b'\n",
    "letters8 = re.findall(regex, str)\n",
    "\n",
    "print(letters8)"
   ]
  },
  {
   "cell_type": "code",
   "execution_count": 35,
   "metadata": {},
   "outputs": [
    {
     "data": {
      "text/plain": [
       "['0583295331']"
      ]
     },
     "execution_count": 35,
     "metadata": {},
     "output_type": "execute_result"
    }
   ],
   "source": [
    "#11. Complete the sentence in the string. Use regex to find your phone number.\n",
    "\n",
    "string = 'My phone number is 0583295331'\n",
    "regex = r'\\d{3}[- ]?\\d{3}[- ]?\\d{4}'\n",
    "find_phone = re.findall(regex, string)\n",
    "find_phone\n"
   ]
  },
  {
   "cell_type": "code",
   "execution_count": 38,
   "metadata": {},
   "outputs": [
    {
     "data": {
      "text/plain": [
       "['S', 'F']"
      ]
     },
     "execution_count": 38,
     "metadata": {},
     "output_type": "execute_result"
    }
   ],
   "source": [
    "#12. Fill in your name in the string. Extract your initials using regex.\n",
    "\n",
    "String = 'Shoshi Finkel'\n",
    "regex = r'\\b\\w'\n",
    "find_initials = re.findall(regex, String)\n",
    "find_initials"
   ]
  }
 ],
 "metadata": {
  "kernelspec": {
   "display_name": "base",
   "language": "python",
   "name": "python3"
  },
  "language_info": {
   "codemirror_mode": {
    "name": "ipython",
    "version": 3
   },
   "file_extension": ".py",
   "mimetype": "text/x-python",
   "name": "python",
   "nbconvert_exporter": "python",
   "pygments_lexer": "ipython3",
   "version": "3.9.13"
  },
  "orig_nbformat": 4,
  "vscode": {
   "interpreter": {
    "hash": "ad2bdc8ecc057115af97d19610ffacc2b4e99fae6737bb82f5d7fb13d2f2c186"
   }
  }
 },
 "nbformat": 4,
 "nbformat_minor": 2
}
