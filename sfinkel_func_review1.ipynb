{
 "cells": [
  {
   "cell_type": "code",
   "execution_count": 1,
   "metadata": {},
   "outputs": [],
   "source": [
    "import pandas as pd"
   ]
  },
  {
   "cell_type": "code",
   "execution_count": 2,
   "metadata": {},
   "outputs": [],
   "source": [
    "df = pd.read_csv('C:/Users/The user/Documents/course/IntegralyticCourse/chanuka_bakery.csv')"
   ]
  },
  {
   "cell_type": "code",
   "execution_count": 3,
   "metadata": {},
   "outputs": [
    {
     "data": {
      "text/html": [
       "<div>\n",
       "<style scoped>\n",
       "    .dataframe tbody tr th:only-of-type {\n",
       "        vertical-align: middle;\n",
       "    }\n",
       "\n",
       "    .dataframe tbody tr th {\n",
       "        vertical-align: top;\n",
       "    }\n",
       "\n",
       "    .dataframe thead th {\n",
       "        text-align: right;\n",
       "    }\n",
       "</style>\n",
       "<table border=\"1\" class=\"dataframe\">\n",
       "  <thead>\n",
       "    <tr style=\"text-align: right;\">\n",
       "      <th></th>\n",
       "      <th>branch</th>\n",
       "      <th>donuts</th>\n",
       "      <th>bagels</th>\n",
       "      <th>chocolate_coins</th>\n",
       "      <th>rolls</th>\n",
       "    </tr>\n",
       "  </thead>\n",
       "  <tbody>\n",
       "    <tr>\n",
       "      <th>0</th>\n",
       "      <td>sorotzkin</td>\n",
       "      <td>62</td>\n",
       "      <td>63</td>\n",
       "      <td>36</td>\n",
       "      <td>101</td>\n",
       "    </tr>\n",
       "    <tr>\n",
       "      <th>1</th>\n",
       "      <td>mem_gimmel</td>\n",
       "      <td>33</td>\n",
       "      <td>55</td>\n",
       "      <td>32</td>\n",
       "      <td>64</td>\n",
       "    </tr>\n",
       "    <tr>\n",
       "      <th>2</th>\n",
       "      <td>gedera</td>\n",
       "      <td>45</td>\n",
       "      <td>24</td>\n",
       "      <td>28</td>\n",
       "      <td>45</td>\n",
       "    </tr>\n",
       "    <tr>\n",
       "      <th>3</th>\n",
       "      <td>ezras_torah</td>\n",
       "      <td>80</td>\n",
       "      <td>74</td>\n",
       "      <td>47</td>\n",
       "      <td>92</td>\n",
       "    </tr>\n",
       "    <tr>\n",
       "      <th>4</th>\n",
       "      <td>shamgar</td>\n",
       "      <td>39</td>\n",
       "      <td>36</td>\n",
       "      <td>32</td>\n",
       "      <td>18</td>\n",
       "    </tr>\n",
       "  </tbody>\n",
       "</table>\n",
       "</div>"
      ],
      "text/plain": [
       "        branch  donuts  bagels  chocolate_coins  rolls\n",
       "0    sorotzkin      62      63               36    101\n",
       "1   mem_gimmel      33      55               32     64\n",
       "2       gedera      45      24               28     45\n",
       "3  ezras_torah      80      74               47     92\n",
       "4      shamgar      39      36               32     18"
      ]
     },
     "execution_count": 3,
     "metadata": {},
     "output_type": "execute_result"
    }
   ],
   "source": [
    "df"
   ]
  },
  {
   "cell_type": "code",
   "execution_count": 4,
   "metadata": {},
   "outputs": [],
   "source": [
    "def total_baked_goods(bagels, rolls):\n",
    "    total = bagels + rolls\n",
    "    return total"
   ]
  },
  {
   "cell_type": "code",
   "execution_count": 5,
   "metadata": {},
   "outputs": [],
   "source": [
    "ezras_torah_baked = total_baked_goods(df['bagels'][3],df['rolls'][3])\n",
    "shamgar_baked = total_baked_goods(df['bagels'][4],df['rolls'][4])"
   ]
  },
  {
   "cell_type": "code",
   "execution_count": 6,
   "metadata": {},
   "outputs": [
    {
     "name": "stdout",
     "output_type": "stream",
     "text": [
      "220\n"
     ]
    }
   ],
   "source": [
    "total_baked = ezras_torah_baked + shamgar_baked\n",
    "print(total_baked)"
   ]
  },
  {
   "cell_type": "code",
   "execution_count": 7,
   "metadata": {},
   "outputs": [],
   "source": [
    "def how_many_sold(branch, donuts, bagels, chocolate_coins, rolls):\n",
    "    total = donuts + bagels + chocolate_coins + rolls\n",
    "    if total > 200:\n",
    "        print(branch, 'sold more than 200.')\n",
    "    else:\n",
    "        print(branch, 'sold 200 or under.')"
   ]
  },
  {
   "cell_type": "code",
   "execution_count": 8,
   "metadata": {},
   "outputs": [
    {
     "name": "stdout",
     "output_type": "stream",
     "text": [
      "sorotzkin sold more than 200.\n",
      "mem_gimmel sold 200 or under.\n",
      "gedera sold 200 or under.\n",
      "ezras_torah sold more than 200.\n",
      "shamgar sold 200 or under.\n"
     ]
    }
   ],
   "source": [
    "for index, branch in enumerate(df['branch']):\n",
    "    how_many_sold(branch, df['donuts'][index], df['bagels'][index], df['chocolate_coins'][index], df['rolls'][index])"
   ]
  }
 ],
 "metadata": {
  "kernelspec": {
   "display_name": "base",
   "language": "python",
   "name": "python3"
  },
  "language_info": {
   "codemirror_mode": {
    "name": "ipython",
    "version": 3
   },
   "file_extension": ".py",
   "mimetype": "text/x-python",
   "name": "python",
   "nbconvert_exporter": "python",
   "pygments_lexer": "ipython3",
   "version": "3.9.13 (main, Aug 25 2022, 23:51:50) [MSC v.1916 64 bit (AMD64)]"
  },
  "orig_nbformat": 4,
  "vscode": {
   "interpreter": {
    "hash": "ad2bdc8ecc057115af97d19610ffacc2b4e99fae6737bb82f5d7fb13d2f2c186"
   }
  }
 },
 "nbformat": 4,
 "nbformat_minor": 2
}
