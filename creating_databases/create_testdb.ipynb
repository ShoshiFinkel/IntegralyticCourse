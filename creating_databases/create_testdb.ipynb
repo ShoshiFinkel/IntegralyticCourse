{
 "cells": [
  {
   "cell_type": "code",
   "execution_count": 2,
   "metadata": {},
   "outputs": [],
   "source": [
    "import pymysql\n",
    "conn = pymysql.connect(host='localhost', port=3306, user='root', password='Sf@323895474', db='sys')"
   ]
  },
  {
   "cell_type": "code",
   "execution_count": 3,
   "metadata": {},
   "outputs": [],
   "source": [
    "cursor = conn.cursor()"
   ]
  },
  {
   "cell_type": "code",
   "execution_count": 4,
   "metadata": {},
   "outputs": [
    {
     "data": {
      "text/plain": [
       "1"
      ]
     },
     "execution_count": 4,
     "metadata": {},
     "output_type": "execute_result"
    }
   ],
   "source": [
    "cursor.execute('CREATE DATABASE IF NOT EXISTS testdb;')"
   ]
  },
  {
   "cell_type": "code",
   "execution_count": 5,
   "metadata": {},
   "outputs": [
    {
     "data": {
      "text/plain": [
       "0"
      ]
     },
     "execution_count": 5,
     "metadata": {},
     "output_type": "execute_result"
    }
   ],
   "source": [
    "cursor.execute('USE testdb;')"
   ]
  },
  {
   "cell_type": "code",
   "execution_count": 6,
   "metadata": {},
   "outputs": [],
   "source": [
    "person_table = '''CREATE TABLE IF NOT EXISTS person\n",
    "(person_id MEDIUMINT UNSIGNED, first_name VARCHAR(50), last_name VARCHAR(50), \n",
    "age TINYINT UNSIGNED, marital_status TINYINT(1), country VARCHAR(75), PRIMARY KEY(person_id));'''"
   ]
  },
  {
   "cell_type": "code",
   "execution_count": 7,
   "metadata": {},
   "outputs": [
    {
     "data": {
      "text/plain": [
       "0"
      ]
     },
     "execution_count": 7,
     "metadata": {},
     "output_type": "execute_result"
    }
   ],
   "source": [
    "cursor.execute(person_table)"
   ]
  },
  {
   "cell_type": "code",
   "execution_count": 8,
   "metadata": {},
   "outputs": [
    {
     "data": {
      "text/plain": [
       "6"
      ]
     },
     "execution_count": 8,
     "metadata": {},
     "output_type": "execute_result"
    }
   ],
   "source": [
    "cursor.execute('DESC person;')"
   ]
  },
  {
   "cell_type": "code",
   "execution_count": 9,
   "metadata": {},
   "outputs": [
    {
     "data": {
      "text/plain": [
       "(('person_id', 'mediumint unsigned', 'NO', 'PRI', None, ''),\n",
       " ('first_name', 'varchar(50)', 'YES', '', None, ''),\n",
       " ('last_name', 'varchar(50)', 'YES', '', None, ''),\n",
       " ('age', 'tinyint unsigned', 'YES', '', None, ''),\n",
       " ('marital_status', 'tinyint(1)', 'YES', '', None, ''),\n",
       " ('country', 'varchar(75)', 'YES', '', None, ''))"
      ]
     },
     "execution_count": 9,
     "metadata": {},
     "output_type": "execute_result"
    }
   ],
   "source": [
    "cursor.fetchall()"
   ]
  },
  {
   "cell_type": "code",
   "execution_count": 10,
   "metadata": {},
   "outputs": [
    {
     "data": {
      "text/plain": [
       "0"
      ]
     },
     "execution_count": 10,
     "metadata": {},
     "output_type": "execute_result"
    }
   ],
   "source": [
    "cursor.execute('USE school;')"
   ]
  },
  {
   "cell_type": "code",
   "execution_count": 14,
   "metadata": {},
   "outputs": [
    {
     "data": {
      "text/plain": [
       "0"
      ]
     },
     "execution_count": 14,
     "metadata": {},
     "output_type": "execute_result"
    }
   ],
   "source": [
    "students_table = '''CREATE TABLE IF NOT EXISTS students\n",
    "(student_id MEDIUMINT UNSIGNED, first_name VARCHAR(50), last_name VARCHAR(50), \n",
    "address VARCHAR(150), state CHAR(2), date_of_birth DATE, \n",
    "phone_number BIGINT, gender ENUM('male', 'female' ), PRIMARY KEY(student_id));'''\n",
    "cursor.execute(students_table)"
   ]
  },
  {
   "cell_type": "code",
   "execution_count": 15,
   "metadata": {},
   "outputs": [
    {
     "data": {
      "text/plain": [
       "(('student_id', 'mediumint unsigned', 'NO', 'PRI', None, ''),\n",
       " ('first_name', 'varchar(50)', 'YES', '', None, ''),\n",
       " ('last_name', 'varchar(50)', 'YES', '', None, ''),\n",
       " ('address', 'varchar(150)', 'YES', '', None, ''),\n",
       " ('state', 'char(2)', 'YES', '', None, ''),\n",
       " ('date_of_birth', 'date', 'YES', '', None, ''),\n",
       " ('phone_number', 'bigint', 'YES', '', None, ''),\n",
       " ('gender', \"enum('male','female')\", 'YES', '', None, ''))"
      ]
     },
     "execution_count": 15,
     "metadata": {},
     "output_type": "execute_result"
    }
   ],
   "source": [
    "cursor.execute('DESC students;')\n",
    "cursor.fetchall()"
   ]
  },
  {
   "cell_type": "code",
   "execution_count": 16,
   "metadata": {},
   "outputs": [
    {
     "data": {
      "text/plain": [
       "0"
      ]
     },
     "execution_count": 16,
     "metadata": {},
     "output_type": "execute_result"
    }
   ],
   "source": [
    "cursor.execute('USE testdb')\n",
    "cursor.execute('DROP TABLE person')"
   ]
  },
  {
   "cell_type": "code",
   "execution_count": 17,
   "metadata": {},
   "outputs": [],
   "source": [
    "conn.close()"
   ]
  }
 ],
 "metadata": {
  "kernelspec": {
   "display_name": "base",
   "language": "python",
   "name": "python3"
  },
  "language_info": {
   "codemirror_mode": {
    "name": "ipython",
    "version": 3
   },
   "file_extension": ".py",
   "mimetype": "text/x-python",
   "name": "python",
   "nbconvert_exporter": "python",
   "pygments_lexer": "ipython3",
   "version": "3.9.13"
  },
  "orig_nbformat": 4
 },
 "nbformat": 4,
 "nbformat_minor": 2
}
