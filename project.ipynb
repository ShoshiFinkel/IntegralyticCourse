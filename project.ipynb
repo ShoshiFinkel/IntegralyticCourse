{
 "cells": [
  {
   "cell_type": "code",
   "execution_count": 105,
   "metadata": {},
   "outputs": [],
   "source": [
    "prices = [[\"Blueberry Muffins\", 5.00],\n",
    "['Small Cookie Platter', 10.50],\n",
    "['Large Cookie Platter', 20.00],\n",
    "['Layer Cake', 15.75],\n",
    "['Cheesecake', 25.85],\n",
    "[\"Crumb Cake\", 11.25],\n",
    "[\"Lemon Bundt Cake\", 17.95]]\n",
    "\n",
    "order_list = [\n",
    "['Chani stern' , ['Blueberry Muffins', 'Blueberry Muffins', 'Large Cookie Platter']],\n",
    "['yocheved Fried ', ['Layer Cake']],\n",
    "['Tova Eisen', ['Cheesecake', 'Small Cookie Platter']],\n",
    "[' esti goldstein', ['Lemon Bundt Cake', 'Blueberry Muffins']],\n",
    "['Libby Rubin ', ['Cheesecake', 'Large Cookie Platter', 'Layer Cake']],\n",
    "['Zeesy jacobs', ['Layer Cake']],\n",
    "['Chava beer ', ['Cheesecake']],\n",
    "['Sara stein', ['Cheesecake', 'Small Cookie Platter']],\n",
    "[' Leah green', ['Crumb Cake']],\n",
    "['riki braun', ['Blueberry Muffins', 'Crumb Cake']],\n",
    "['Rochel Katz', ['Cheesecake', 'Cheesecake']],\n",
    "['Shani Kohn ', ['Crumb Cake', 'Lemon Bundt Cake']],\n",
    "['Frayda Reich', ['Small Cookie Platter']],\n",
    "['devora Gelb ', ['Blueberry Muffins', 'Blueberry Muffins', 'Blueberry Muffins']],\n",
    "['Elisheva Taub ', ['Large Cookie Platter']],\n",
    "[' Avigail kaplan', ['Crumb Cake']],\n",
    "[' Tzippy kahn', ['Lemon Bundt Cake']],\n",
    "['Tzirel Stone', ['Small Cookie Platter', 'Large Cookie Platter', 'Crumb Cake', 'Blueberry Muffins', 'Layer Cake', 'Cheesecake', 'Lemon Bundt Cake']],\n",
    "['nechama finkel', ['Layer Cake']],\n",
    "['Rachel mayer', ['Cheesecake']]\n",
    "]\n"
   ]
  },
  {
   "cell_type": "code",
   "execution_count": 106,
   "metadata": {},
   "outputs": [
    {
     "name": "stdout",
     "output_type": "stream",
     "text": [
      "['Chani Stern', 'Yocheved Fried', 'Tova Eisen', 'Esti Goldstein', 'Libby Rubin', 'Zeesy Jacobs', 'Chava Beer', 'Sara Stein', 'Leah Green', 'Riki Braun', 'Rochel Katz', 'Shani Kohn', 'Frayda Reich', 'Devora Gelb', 'Elisheva Taub', 'Avigail Kaplan', 'Tzippy Kahn', 'Tzirel Stone', 'Nechama Finkel', 'Rachel Mayer']\n"
     ]
    }
   ],
   "source": [
    "# A list of all the names written with proper cases and without extra spaces.\n",
    "names_list = []\n",
    "for name in order_list:\n",
    "    names_list.append(name[0].strip().title())\n",
    "print(names_list)    \n",
    "\n"
   ]
  },
  {
   "cell_type": "code",
   "execution_count": 107,
   "metadata": {},
   "outputs": [
    {
     "name": "stdout",
     "output_type": "stream",
     "text": [
      "[['Chani Stern', ['Blueberry Muffins', 'Blueberry Muffins', 'Large Cookie Platter']], ['Yocheved Fried', ['Layer Cake']], ['Tova Eisen', ['Cheesecake', 'Small Cookie Platter']], ['Esti Goldstein', ['Lemon Bundt Cake', 'Blueberry Muffins']], ['Libby Rubin', ['Cheesecake', 'Large Cookie Platter', 'Layer Cake']], ['Zeesy Jacobs', ['Layer Cake']], ['Chava Beer', ['Cheesecake']], ['Sara Stein', ['Cheesecake', 'Small Cookie Platter']], ['Leah Green', ['Crumb Cake']], ['Riki Braun', ['Blueberry Muffins', 'Crumb Cake']], ['Rochel Katz', ['Cheesecake', 'Cheesecake']], ['Shani Kohn', ['Crumb Cake', 'Lemon Bundt Cake']], ['Frayda Reich', ['Small Cookie Platter']], ['Devora Gelb', ['Blueberry Muffins', 'Blueberry Muffins', 'Blueberry Muffins']], ['Elisheva Taub', ['Large Cookie Platter']], ['Avigail Kaplan', ['Crumb Cake']], ['Tzippy Kahn', ['Lemon Bundt Cake']], ['Tzirel Stone', ['Small Cookie Platter', 'Large Cookie Platter', 'Crumb Cake', 'Blueberry Muffins', 'Layer Cake', 'Cheesecake', 'Lemon Bundt Cake']], ['Nechama Finkel', ['Layer Cake']], ['Rachel Mayer', ['Cheesecake']]]\n"
     ]
    }
   ],
   "source": [
    "# The correct list\n",
    "correct_order_list = order_list\n",
    "for name in correct_order_list:\n",
    "    name[0]= name[0].strip().title()\n",
    "print(correct_order_list)    \n",
    "    \n"
   ]
  },
  {
   "cell_type": "code",
   "execution_count": 130,
   "metadata": {},
   "outputs": [
    {
     "name": "stdout",
     "output_type": "stream",
     "text": [
      "Welcome to the N'shey\n"
     ]
    }
   ],
   "source": [
    "# The code that will only allow the program to run if the user gives a password.\n",
    "\n",
    "nshey_code = \"321321\"\n",
    "user_code=input(\"Enter a code\")\n",
    "i=1\n",
    "while i<4 and user_code != nshey_code :\n",
    "        user_code=input(\"Wrong password. Try again (You have \"+str(4-i)+\" attempts)\")\n",
    "        i+=1\n",
    "if i==4 and user_code != nshey_code :\n",
    "    print(\"Sorry...Wrong password. You do not have access to the information\")\n",
    "else:\n",
    "    print(\"Welcome to the N'shey\")\n",
    "\n"
   ]
  },
  {
   "cell_type": "code",
   "execution_count": 109,
   "metadata": {},
   "outputs": [
    {
     "name": "stdout",
     "output_type": "stream",
     "text": [
      "[['Blueberry Muffins', 8], ['Small Cookie Platter', 4], ['Large Cookie Platter', 4], ['Layer Cake', 5], ['Cheesecake', 8], ['Crumb Cake', 5], ['Lemon Bundt Cake', 4]]\n"
     ]
    }
   ],
   "source": [
    "# A list with the amount of each baked good.\n",
    "amount_list = []\n",
    "for item in prices:\n",
    "    count=0\n",
    "    for cakes in correct_order_list:\n",
    "        for cake in cakes[1]:\n",
    "            if item[0]==cake:\n",
    "                count+=1\n",
    "    amount_list.append([item[0],count])\n",
    "\n",
    "print(amount_list)"
   ]
  },
  {
   "cell_type": "code",
   "execution_count": 123,
   "metadata": {},
   "outputs": [
    {
     "name": "stdout",
     "output_type": "stream",
     "text": [
      "575.6 $\n"
     ]
    }
   ],
   "source": [
    "# The total amount that the N'shei made for the tzedakah organization.\n",
    "sum=0\n",
    "for t in range(len(prices)):\n",
    "  sum+=prices[t][1]*amount_list[t][1]\n",
    "print(sum,\"$\")"
   ]
  },
  {
   "cell_type": "code",
   "execution_count": 129,
   "metadata": {},
   "outputs": [
    {
     "name": "stdout",
     "output_type": "stream",
     "text": [
      "Chani Stern\n",
      "Blueberry Muffins = 5.0 $\n",
      "Blueberry Muffins = 5.0 $\n",
      "Large Cookie Platter = 20.0 $\n",
      "Total:  30.0 $\n",
      "\n",
      "Yocheved Fried\n",
      "Layer Cake = 15.75 $\n",
      "Total:  15.75 $\n",
      "\n",
      "Tova Eisen\n",
      "Cheesecake = 25.85 $\n",
      "Small Cookie Platter = 10.5 $\n",
      "Total:  36.35 $\n",
      "\n",
      "Esti Goldstein\n",
      "Lemon Bundt Cake = 17.95 $\n",
      "Blueberry Muffins = 5.0 $\n",
      "Total:  22.95 $\n",
      "\n",
      "Libby Rubin\n",
      "Cheesecake = 25.85 $\n",
      "Large Cookie Platter = 20.0 $\n",
      "Layer Cake = 15.75 $\n",
      "Total:  61.6 $\n",
      "\n",
      "Zeesy Jacobs\n",
      "Layer Cake = 15.75 $\n",
      "Total:  15.75 $\n",
      "\n",
      "Chava Beer\n",
      "Cheesecake = 25.85 $\n",
      "Total:  25.85 $\n",
      "\n",
      "Sara Stein\n",
      "Cheesecake = 25.85 $\n",
      "Small Cookie Platter = 10.5 $\n",
      "Total:  36.35 $\n",
      "\n",
      "Leah Green\n",
      "Crumb Cake = 11.25 $\n",
      "Total:  11.25 $\n",
      "\n",
      "Riki Braun\n",
      "Blueberry Muffins = 5.0 $\n",
      "Crumb Cake = 11.25 $\n",
      "Total:  16.25 $\n",
      "\n",
      "Rochel Katz\n",
      "Cheesecake = 25.85 $\n",
      "Cheesecake = 25.85 $\n",
      "Total:  51.7 $\n",
      "\n",
      "Shani Kohn\n",
      "Crumb Cake = 11.25 $\n",
      "Lemon Bundt Cake = 17.95 $\n",
      "Total:  29.2 $\n",
      "\n",
      "Frayda Reich\n",
      "Small Cookie Platter = 10.5 $\n",
      "Total:  10.5 $\n",
      "\n",
      "Devora Gelb\n",
      "Blueberry Muffins = 5.0 $\n",
      "Blueberry Muffins = 5.0 $\n",
      "Blueberry Muffins = 5.0 $\n",
      "Total:  15.0 $\n",
      "\n",
      "Elisheva Taub\n",
      "Large Cookie Platter = 20.0 $\n",
      "Total:  20.0 $\n",
      "\n",
      "Avigail Kaplan\n",
      "Crumb Cake = 11.25 $\n",
      "Total:  11.25 $\n",
      "\n",
      "Tzippy Kahn\n",
      "Lemon Bundt Cake = 17.95 $\n",
      "Total:  17.95 $\n",
      "\n",
      "Tzirel Stone\n",
      "Small Cookie Platter = 10.5 $\n",
      "Large Cookie Platter = 20.0 $\n",
      "Crumb Cake = 11.25 $\n",
      "Blueberry Muffins = 5.0 $\n",
      "Layer Cake = 15.75 $\n",
      "Cheesecake = 25.85 $\n",
      "Lemon Bundt Cake = 17.95 $\n",
      "Total:  106.3 $\n",
      "\n",
      "Nechama Finkel\n",
      "Layer Cake = 15.75 $\n",
      "Total:  15.75 $\n",
      "\n",
      "Rachel Mayer\n",
      "Cheesecake = 25.85 $\n",
      "Total:  25.85 $\n",
      "\n"
     ]
    }
   ],
   "source": [
    "# Receipt for each woman. \n",
    "for order in correct_order_list:\n",
    "    sum=0\n",
    "    print(order[0])\n",
    "    for cakes in order[1]:\n",
    "        for k in prices:\n",
    "            if k[0]==cakes:\n",
    "                print(cakes,\"=\",k[1],\"$\")\n",
    "                sum+=k[1]\n",
    "                break\n",
    "    print(\"Total: \",sum,\"$\")\n",
    "    print(\"\")           "
   ]
  },
  {
   "cell_type": "code",
   "execution_count": null,
   "metadata": {},
   "outputs": [],
   "source": []
  }
 ],
 "metadata": {
  "kernelspec": {
   "display_name": "Python 3",
   "language": "python",
   "name": "python3"
  },
  "language_info": {
   "codemirror_mode": {
    "name": "ipython",
    "version": 3
   },
   "file_extension": ".py",
   "mimetype": "text/x-python",
   "name": "python",
   "nbconvert_exporter": "python",
   "pygments_lexer": "ipython3",
   "version": "3.10.5"
  },
  "orig_nbformat": 4,
  "vscode": {
   "interpreter": {
    "hash": "369f2c481f4da34e4445cda3fffd2e751bd1c4d706f27375911949ba6bb62e1c"
   }
  }
 },
 "nbformat": 4,
 "nbformat_minor": 2
}
