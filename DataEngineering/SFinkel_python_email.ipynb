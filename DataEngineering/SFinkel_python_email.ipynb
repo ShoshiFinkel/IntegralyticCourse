{
 "cells": [
  {
   "cell_type": "code",
   "execution_count": 15,
   "metadata": {},
   "outputs": [],
   "source": [
    "#IMPORTS\n",
    "from email.mime.multipart import MIMEMultipart\n",
    "from email.mime.text import MIMEText\n",
    "from email.mime.application import MIMEApplication\n",
    "import smtplib\n",
    "import pandas as pd\n",
    "import pyodbc"
   ]
  },
  {
   "cell_type": "code",
   "execution_count": 16,
   "metadata": {},
   "outputs": [],
   "source": [
    "#CONNECT TO DATABASE\n",
    "sql_conn = pyodbc.connect('Driver={SQL Server}; Server=localhost,1432; INSTANCE=MSSQLSERVER; Database=School; Trusted_Connection=yes; Encrypt=no')"
   ]
  },
  {
   "cell_type": "code",
   "execution_count": 17,
   "metadata": {},
   "outputs": [
    {
     "name": "stderr",
     "output_type": "stream",
     "text": [
      "C:\\Users\\The user\\AppData\\Local\\Temp\\ipykernel_14012\\3746325339.py:8: UserWarning: pandas only supports SQLAlchemy connectable (engine/connection) or database string URI or sqlite3 DBAPI2 connection. Other DBAPI2 objects are not tested. Please consider using SQLAlchemy.\n",
      "  df = pd.read_sql_query(query, sql_conn)\n"
     ]
    }
   ],
   "source": [
    "query = '''SELECT p.FirstName, p.LastName, c.Title ,sg.Grade\n",
    "FROM Person p\n",
    "JOIN StudentGrade sg\n",
    "ON p.PersonID = sg.StudentID\n",
    "JOIN Course c\n",
    "ON c.CourseID = sg.CourseID\n",
    "WHERE p.Discriminator = 'Student'\n",
    "ORDER BY p.LastName, p.FirstName;'''\n",
    "df = pd.read_sql_query(query, sql_conn)"
   ]
  },
  {
   "cell_type": "code",
   "execution_count": 19,
   "metadata": {},
   "outputs": [
    {
     "data": {
      "text/plain": [
       "(221,\n",
       " b'2.0.0 closing connection j8-20020a170906830800b009927d4d7a6bsm910033ejx.53 - gsmtp')"
      ]
     },
     "execution_count": 19,
     "metadata": {},
     "output_type": "execute_result"
    }
   ],
   "source": [
    "#SEND A DATAFRAME IN AN EMAIL\n",
    "msg = MIMEMultipart()\n",
    "fromaddr = 'sfinkel@integralytic.com'\n",
    "toaddr = \"sfinkel@integralytic.com\"\n",
    "msg['From'] = fromaddr\n",
    "msg[\"To\"] = toaddr\n",
    "msg['Subject'] = \"Python email service lesson - example 1\"\n",
    "\n",
    "#Let's say course is an important table,, want to see its contents in email.\n",
    "body = 'All students grades.'   #Any string/variable, no limit to how many\n",
    "htmlEmail = \"\"\"      <html>    \n",
    "<head></head>\n",
    "<body>\n",
    "    {0}\n",
    "</body>\n",
    "</html>\n",
    "\"\"\".format(df.to_html())\n",
    "msg.attach(MIMEText(body, \"plain\"))\n",
    "msg.attach(MIMEText(htmlEmail, 'html'))\n",
    "server = smtplib.SMTP('smtp.gmail.com', 587)\n",
    "server.starttls()\n",
    "server.login(fromaddr, \"kikmlhxgsockpzkl\")\n",
    "text = msg.as_string()\n",
    "server.sendmail(fromaddr, toaddr, text)\n",
    "server.quit()"
   ]
  },
  {
   "cell_type": "code",
   "execution_count": 35,
   "metadata": {},
   "outputs": [
    {
     "name": "stderr",
     "output_type": "stream",
     "text": [
      "C:\\Users\\The user\\AppData\\Local\\Temp\\ipykernel_14012\\4263828492.py:5: UserWarning: pandas only supports SQLAlchemy connectable (engine/connection) or database string URI or sqlite3 DBAPI2 connection. Other DBAPI2 objects are not tested. Please consider using SQLAlchemy.\n",
      "  df1 = pd.read_sql_query(query1, sql_conn)\n",
      "C:\\Users\\The user\\AppData\\Local\\Temp\\ipykernel_14012\\4263828492.py:11: UserWarning: pandas only supports SQLAlchemy connectable (engine/connection) or database string URI or sqlite3 DBAPI2 connection. Other DBAPI2 objects are not tested. Please consider using SQLAlchemy.\n",
      "  df2 = pd.read_sql_query(query2, sql_conn)\n"
     ]
    }
   ],
   "source": [
    "query1 = '''SELECT FirstName, LastName, HireDate\n",
    "FROM Person\n",
    "WHERE HireDate BETWEEN DATEADD(WEEK, -1, GETDATE()) AND GETDATE()\n",
    "AND Discriminator = 'Instructor';'''\n",
    "df1 = pd.read_sql_query(query1, sql_conn)\n",
    "\n",
    "query2 = '''SELECT FirstName, LastName, EnrollmentDate\n",
    "FROM Person\n",
    "WHERE EnrollmentDate BETWEEN DATEADD(WEEK, -1, GETDATE()) AND GETDATE()\n",
    "AND Discriminator = 'Student';'''\n",
    "df2 = pd.read_sql_query(query2, sql_conn)\n"
   ]
  },
  {
   "attachments": {},
   "cell_type": "markdown",
   "metadata": {},
   "source": []
  },
  {
   "cell_type": "code",
   "execution_count": 36,
   "metadata": {},
   "outputs": [
    {
     "data": {
      "text/plain": [
       "(221,\n",
       " b'2.0.0 closing connection n22-20020a17090625d600b00982a92a849asm1027411ejb.91 - gsmtp')"
      ]
     },
     "execution_count": 36,
     "metadata": {},
     "output_type": "execute_result"
    }
   ],
   "source": [
    "#SEND A DATAFRAME IN AN EMAIL\n",
    "msg = MIMEMultipart()\n",
    "fromaddr = 'sfinkel@integralytic.com'\n",
    "toaddr = \"sfinkel@integralytic.com\"\n",
    "msg['From'] = fromaddr\n",
    "msg[\"To\"] = toaddr\n",
    "msg['Subject'] = \"Weekly New Instructor/Student Report\"\n",
    "\n",
    "#Let's say course is an important table,, want to see its contents in email.\n",
    "if df1.empty:\n",
    "    body = 'No instructors were hired this week.'\n",
    "    msg.attach(MIMEText(body, \"plain\"))\n",
    "elif df1.shape[0] == 1:\n",
    "    body = 'A new instructor was hired this week, Here are his details.'   #Any string/variable, no limit to how many\n",
    "    htmlEmail = \"\"\"      <html>    \n",
    "    <head></head>\n",
    "    <body>\n",
    "        {0}\n",
    "    </body>\n",
    "    </html>\n",
    "    \"\"\".format(df1.to_html())\n",
    "    msg.attach(MIMEText(body, \"plain\"))\n",
    "    msg.attach(MIMEText(htmlEmail, 'html'))\n",
    "else:\n",
    "    body = 'New instructors were hired this week, Here are their details.'   #Any string/variable, no limit to how many\n",
    "    htmlEmail = \"\"\"      <html>    \n",
    "    <head></head>\n",
    "    <body>\n",
    "        {0}\n",
    "    </body>\n",
    "    </html>\n",
    "    \"\"\".format(df1.to_html())\n",
    "    msg.attach(MIMEText(body, \"plain\"))\n",
    "    msg.attach(MIMEText(htmlEmail, 'html'))\n",
    "\n",
    "htmlEmail2 = \"\"\"      <html>    \n",
    "    <head></head>\n",
    "    <body>\n",
    "        <br>\n",
    "        <br>\n",
    "    </body>\n",
    "    </html>\n",
    "    \"\"\"\n",
    "msg.attach(MIMEText(htmlEmail2, 'html'))\n",
    "    \n",
    "\n",
    "if df2.empty:\n",
    "    body1 = 'No students were enrolled this week.'\n",
    "    msg.attach(MIMEText(body1, \"plain\"))\n",
    "elif df2.shape[0] == 1:\n",
    "    body1 = 'A new student was enrolled this week, Here are his details.'   #Any string/variable, no limit to how many\n",
    "    htmlEmail1 = \"\"\"      <html>    \n",
    "    <head></head>\n",
    "    <body>\n",
    "        {0}\n",
    "    </body>\n",
    "    </html>\n",
    "    \"\"\".format(df2.to_html())\n",
    "    msg.attach(MIMEText(body1, \"plain\"))\n",
    "    msg.attach(MIMEText(htmlEmail1, 'html'))\n",
    "else:\n",
    "    body1 = 'New instructors were hired this week, Here are their details.'   #Any string/variable, no limit to how many\n",
    "    htmlEmail1 = \"\"\"      <html>    \n",
    "    <head></head>\n",
    "    <body>\n",
    "        {0}\n",
    "    </body>\n",
    "    </html>\n",
    "    \"\"\".format(df2.to_html())\n",
    "    msg.attach(MIMEText(body1, \"plain\"))\n",
    "    msg.attach(MIMEText(htmlEmail1, 'html'))\n",
    "server = smtplib.SMTP('smtp.gmail.com', 587)\n",
    "server.starttls()\n",
    "server.login(fromaddr, \"kikmlhxgsockpzkl\")\n",
    "text = msg.as_string()\n",
    "server.sendmail(fromaddr, toaddr, text)\n",
    "server.quit()"
   ]
  },
  {
   "cell_type": "code",
   "execution_count": null,
   "metadata": {},
   "outputs": [],
   "source": []
  }
 ],
 "metadata": {
  "kernelspec": {
   "display_name": "base",
   "language": "python",
   "name": "python3"
  },
  "language_info": {
   "codemirror_mode": {
    "name": "ipython",
    "version": 3
   },
   "file_extension": ".py",
   "mimetype": "text/x-python",
   "name": "python",
   "nbconvert_exporter": "python",
   "pygments_lexer": "ipython3",
   "version": "3.9.13"
  },
  "orig_nbformat": 4
 },
 "nbformat": 4,
 "nbformat_minor": 2
}
