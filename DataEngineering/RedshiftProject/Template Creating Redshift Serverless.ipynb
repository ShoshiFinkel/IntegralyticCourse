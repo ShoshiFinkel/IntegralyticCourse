{
 "cells": [
  {
   "cell_type": "markdown",
   "metadata": {},
   "source": [
    "# Creating Redshift Serverless using AWS python SDK"
   ]
  },
  {
   "cell_type": "markdown",
   "metadata": {},
   "source": [
    "https://boto3.amazonaws.com/v1/documentation/api/latest/reference/services/redshift-serverless.html"
   ]
  },
  {
   "cell_type": "markdown",
   "metadata": {},
   "source": [
    "#unhash if haven't installed yet!\n",
    "#pip install boto3"
   ]
  },
  {
   "cell_type": "code",
   "execution_count": null,
   "metadata": {},
   "outputs": [],
   "source": [
    "import pandas as pd\n",
    "import boto3\n",
    "import json"
   ]
  },
  {
   "cell_type": "markdown",
   "metadata": {},
   "source": [
    "# Setting up - Attaching your  AWS secret and access key\n",
    "\n",
    "- Once have taken note of the access key and secret from your IAM user\n",
    "- Create a config file in the same folder as this notebook and fill\n",
    "<font color='red'>\n",
    "<BR>\n",
    "[AWS]<BR>\n",
    "KEY= YOUR_AWS_KEY<BR>\n",
    "SECRET= YOUR_AWS_SECRET<BR>\n",
    "<font/>"
   ]
  },
  {
   "cell_type": "code",
   "execution_count": null,
   "metadata": {},
   "outputs": [],
   "source": [
    "##Load DWH Params from your config file\n",
    "#You should load in your key, secret, name of namespace, workgroup, database, user, and IAM role as well as database password, port and base capacity for redshift.\n",
    "\n",
    "import configparser\n",
    "\n",
    "config = configparser.ConfigParser()\n",
    "configFilePath = r'C:\\Users\\The user\\Documents\\course\\IntegralyticCourse\\DataEngineering\\RedshiftProject\\configuration.cfg'\n",
    "config.read(configFilePath)\n",
    "KEY = config.get('AWS', 'KEY')\n",
    "SECRET = config.get('AWS', 'SECRET')\n",
    "DWH_NAMESPACE_NAME = config.get('DWH', 'DWH_NAMESPACE_NAME')\n",
    "DWH_WORKGROUP_NAME = config.get('DWH', 'DWH_WORKGROUP_NAME')\n",
    "DWH_BASE_CAPACITY = config.get('DWH', 'DWH_BASE_CAPACITY')\n",
    "DWH_DB = config.get('DWH', 'DWH_DB')\n",
    "DWH_DB_USER = config.get('DWH', 'DWH_DB_USER')\n",
    "DWH_DB_PASSWORD = config.get('DWH', 'DWH_DB_PASSWORD')\n",
    "DWH_PORT = config.get('DWH', 'DWH_PORT')\n",
    "DWH_IAM_ROLE_NAME = config.get('DWH', 'DWH_IAM_ROLE_NAME')\n",
    "REGION = config.get('AWS', 'REGION')\n",
    "\n",
    "\n",
    "#here is an example of a dataframe you can print out with all your params, you can take out password if you dont want it to print\n",
    "pd.DataFrame({\"Param\":\n",
    "                  [ \"ACCESS_KEY\", \"SECRET_KEY\", \"DWH_BASE_CAPACITY\", \"DWH_DB\", \"DWH_DB_USER\", \"DWH_DB_PASSWORD\", \"DWH_PORT\", \"DWH_IAM_ROLE_NAME\"],\n",
    "              \"Value\":\n",
    "                  [DWH_NAMESPACE_NAME, DWH_WORKGROUP_NAME, DWH_BASE_CAPACITY, DWH_DB, DWH_DB_USER, DWH_DB_PASSWORD, DWH_PORT, DWH_IAM_ROLE_NAME]\n",
    "             })"
   ]
  },
  {
   "cell_type": "markdown",
   "metadata": {},
   "source": [
    "Create clients for IAM and RedshiftServerless"
   ]
  },
  {
   "cell_type": "code",
   "execution_count": null,
   "metadata": {},
   "outputs": [],
   "source": [
    "######Your code here######\n",
    "redshift_client = boto3.client('redshift-serverless', \n",
    "                      aws_access_key_id = KEY,\n",
    "                      aws_secret_access_key = SECRET,\n",
    "                      region_name = REGION)\n",
    "\n",
    "iam_client = boto3.client('iam', \n",
    "                      aws_access_key_id = KEY,\n",
    "                      aws_secret_access_key = SECRET,\n",
    "                      region_name = REGION)"
   ]
  },
  {
   "cell_type": "markdown",
   "metadata": {},
   "source": [
    "## STEP 1: IAM ROLE\n",
    "- Create an IAM Role that makes Redshift able to access S3 bucket (ReadOnly)\n",
    "https://boto3.amazonaws.com/v1/documentation/api/latest/reference/services/iam/client/create_role.html\n",
    "for AssumeRolePolicyDocument, open the role you created through the console under trust relationship, trusted entities, use that json for that perameter. See image 1\n"
   ]
  },
  {
   "cell_type": "code",
   "execution_count": null,
   "metadata": {},
   "outputs": [],
   "source": [
    "# TODO: Create the IAM role\n",
    "print(\"1.1 Creating a new IAM Role\")\n",
    "\n",
    "\n",
    "######Your code here######\n",
    "DwhRole = iam_client.create_role(\n",
    "        Path='/',\n",
    "        RoleName=DWH_IAM_ROLE_NAME,\n",
    "        Description='Allows Redshift clusters to call AWS services on your behalf.',\n",
    "        AssumeRolePolicyDocument=json.dumps({\n",
    "              \"Version\": \"2012-10-17\",\n",
    "              \"Statement\": [\n",
    "                {\n",
    "                  \"Effect\": \"Allow\",\n",
    "                  \"Principal\": {\n",
    "                    \"Service\": \"redshift.amazonaws.com\"\n",
    "                  },\n",
    "                  \"Action\": \"sts:AssumeRole\"\n",
    "                }\n",
    "              ]\n",
    "            }),\n",
    "    )"
   ]
  },
  {
   "cell_type": "markdown",
   "metadata": {},
   "source": [
    "### STEP 1.2: Attach Policy to IAM ROLE\n",
    "- attach policy to the role\n",
    "https://boto3.amazonaws.com/v1/documentation/api/latest/reference/services/iam/client/attach_role_policy.html\n",
    "for PolicyArn see image 2\n"
   ]
  },
  {
   "cell_type": "code",
   "execution_count": null,
   "metadata": {},
   "outputs": [],
   "source": [
    "# TODO: Attach Policy\n",
    "print(\"1.2 Attaching Policy\")\n",
    "\n",
    "\n",
    "\n",
    "######Your code here######\n",
    "\n",
    "iam_client.attach_role_policy(RoleName=DWH_IAM_ROLE_NAME,\n",
    "                       PolicyArn=\"arn:aws:iam::aws:policy/AmazonS3ReadOnlyAccess\"\n",
    "                      )['ResponseMetadata']['HTTPStatusCode']\n",
    "\n"
   ]
  },
  {
   "cell_type": "markdown",
   "metadata": {},
   "source": [
    "### STEP 1.3: Get IAM role ARN\n",
    "- get the IAM role ARN and write it to your config file, so you can use to load data from S3 to Redshift using the ARN\n",
    "https://boto3.amazonaws.com/v1/documentation/api/latest/reference/services/iam/client/get_role.html"
   ]
  },
  {
   "cell_type": "code",
   "execution_count": null,
   "metadata": {},
   "outputs": [],
   "source": [
    "# TODO: Get and print the IAM role ARN, save it to your config file\n",
    "print(\"1.3 Get the IAM role ARN\")\n",
    "\n",
    "\n",
    "\n",
    "######Your code here######\n",
    "\n",
    "roleArn = iam_client.get_role(RoleName=DWH_IAM_ROLE_NAME)['Role']['Arn']\n",
    "\n",
    "print(roleArn)\n"
   ]
  },
  {
   "cell_type": "markdown",
   "metadata": {},
   "source": [
    "## Step 2 Create A Redshift Serverless Instance"
   ]
  },
  {
   "cell_type": "markdown",
   "metadata": {},
   "source": [
    "### Step 2.1 Create A Redshift Serverless Namespace\n",
    "\n",
    "for complete arguments to create_namespace see\n",
    "https://boto3.amazonaws.com/v1/documentation/api/latest/reference/services/redshift-serverless/client/create_namespace.html"
   ]
  },
  {
   "cell_type": "code",
   "execution_count": null,
   "metadata": {},
   "outputs": [],
   "source": [
    "response = redshift_client.create_namespace(\n",
    "    adminUserPassword = DWH_DB_PASSWORD,\n",
    "    adminUsername = DWH_DB_USER,\n",
    "    dbName= DWH_DB,\n",
    "    defaultIamRoleArn= roleArn,\n",
    "    iamRoles=[\n",
    "        roleArn,\n",
    "    ],\n",
    "    logExports=[\n",
    "        'userlog'\n",
    "    ],\n",
    "    namespaceName= DWH_NAMESPACE_NAME\n",
    ")"
   ]
  },
  {
   "cell_type": "markdown",
   "metadata": {},
   "source": [
    "### Step 2.2 Create A Redshift Serverless Workgroup\n",
    " https://boto3.amazonaws.com/v1/documentation/api/latest/reference/services/redshift-serverless/client/create_workgroup.html"
   ]
  },
  {
   "cell_type": "code",
   "execution_count": null,
   "metadata": {},
   "outputs": [],
   "source": [
    "######Your code here######\n",
    "\n",
    "response = redshift_client.create_workgroup(\n",
    "    baseCapacity=int(DWH_BASE_CAPACITY),\n",
    "    namespaceName=DWH_NAMESPACE_NAME,\n",
    "    publiclyAccessible=True,\n",
    "    workgroupName=DWH_WORKGROUP_NAME\n",
    ")\n"
   ]
  },
  {
   "cell_type": "markdown",
   "metadata": {},
   "source": [
    "### Step 2.3 Check if your workgroup is available, get the host address and write it to your config file\n",
    "Additionally, you can take the response object and make it into a nice dataframe with relevant and useful information about your workgroup\n",
    "\n",
    "https://boto3.amazonaws.com/v1/documentation/api/latest/reference/services/redshift-serverless/client/create_workgroup.html"
   ]
  },
  {
   "cell_type": "code",
   "execution_count": null,
   "metadata": {},
   "outputs": [],
   "source": [
    "######Your code here######\n",
    "\n",
    "response = redshift_client.get_workgroup(\n",
    "    workgroupName=DWH_WORKGROUP_NAME\n",
    ")"
   ]
  },
  {
   "cell_type": "markdown",
   "metadata": {},
   "source": [
    "### Step 2.4 Creating a security group. \n"
   ]
  },
  {
   "cell_type": "markdown",
   "metadata": {},
   "source": [
    "In the console..."
   ]
  },
  {
   "cell_type": "markdown",
   "metadata": {},
   "source": [
    "## Step 3 Test\n",
    "Connect to your database and run a test query"
   ]
  },
  {
   "cell_type": "code",
   "execution_count": null,
   "metadata": {},
   "outputs": [],
   "source": [
    "import psycopg2\n",
    "\n",
    "\n",
    "conn = psycopg2.connect(database = DWH_DB,\n",
    "                        user = DWH_DB_USER,\n",
    "                        host= 'my-redshift-workgroup-1.940788980600.us-east-1.redshift-serverless.amazonaws.com',\n",
    "                        password = DWH_DB_PASSWORD,\n",
    "                        port = \"5439\")\n",
    "\n",
    "cur = conn.cursor()\n"
   ]
  },
  {
   "cell_type": "code",
   "execution_count": null,
   "metadata": {},
   "outputs": [],
   "source": [
    "cur.execute(\"select 1\")"
   ]
  },
  {
   "cell_type": "code",
   "execution_count": null,
   "metadata": {},
   "outputs": [],
   "source": [
    "conn.commit()\n",
    "conn.close()"
   ]
  }
 ],
 "metadata": {
  "kernelspec": {
   "display_name": "base",
   "language": "python",
   "name": "python3"
  },
  "language_info": {
   "codemirror_mode": {
    "name": "ipython",
    "version": 3
   },
   "file_extension": ".py",
   "mimetype": "text/x-python",
   "name": "python",
   "nbconvert_exporter": "python",
   "pygments_lexer": "ipython3",
   "version": "3.9.13"
  },
  "orig_nbformat": 4
 },
 "nbformat": 4,
 "nbformat_minor": 2
}
