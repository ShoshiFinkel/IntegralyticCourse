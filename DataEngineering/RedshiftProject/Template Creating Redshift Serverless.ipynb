{
 "cells": [
  {
   "cell_type": "markdown",
   "metadata": {},
   "source": [
    "# Creating Redshift Serverless using AWS python SDK"
   ]
  },
  {
   "cell_type": "markdown",
   "metadata": {},
   "source": [
    "https://boto3.amazonaws.com/v1/documentation/api/latest/reference/services/redshift-serverless.html"
   ]
  },
  {
   "cell_type": "markdown",
   "metadata": {},
   "source": [
    "#unhash if haven't installed yet!\n",
    "#pip install boto3"
   ]
  },
  {
   "cell_type": "code",
   "execution_count": 1,
   "metadata": {},
   "outputs": [],
   "source": [
    "import pandas as pd\n",
    "import boto3\n",
    "import json"
   ]
  },
  {
   "cell_type": "markdown",
   "metadata": {},
   "source": [
    "# Setting up - Attaching your  AWS secret and access key\n",
    "\n",
    "- Once have taken note of the access key and secret from your IAM user\n",
    "- Create a config file in the same folder as this notebook and fill\n",
    "<font color='red'>\n",
    "<BR>\n",
    "[AWS]<BR>\n",
    "KEY= YOUR_AWS_KEY<BR>\n",
    "SECRET= YOUR_AWS_SECRET<BR>\n",
    "<font/>"
   ]
  },
  {
   "cell_type": "code",
   "execution_count": 9,
   "metadata": {},
   "outputs": [
    {
     "data": {
      "text/html": [
       "<div>\n",
       "<style scoped>\n",
       "    .dataframe tbody tr th:only-of-type {\n",
       "        vertical-align: middle;\n",
       "    }\n",
       "\n",
       "    .dataframe tbody tr th {\n",
       "        vertical-align: top;\n",
       "    }\n",
       "\n",
       "    .dataframe thead th {\n",
       "        text-align: right;\n",
       "    }\n",
       "</style>\n",
       "<table border=\"1\" class=\"dataframe\">\n",
       "  <thead>\n",
       "    <tr style=\"text-align: right;\">\n",
       "      <th></th>\n",
       "      <th>Param</th>\n",
       "      <th>Value</th>\n",
       "    </tr>\n",
       "  </thead>\n",
       "  <tbody>\n",
       "    <tr>\n",
       "      <th>0</th>\n",
       "      <td>DWH_NAMESPACE_NAME</td>\n",
       "      <td>my-redshift-space</td>\n",
       "    </tr>\n",
       "    <tr>\n",
       "      <th>1</th>\n",
       "      <td>DWH_WORKGROUP_NAME</td>\n",
       "      <td>my-redshift-workgroup</td>\n",
       "    </tr>\n",
       "    <tr>\n",
       "      <th>2</th>\n",
       "      <td>DWH_BASE_CAPACITY</td>\n",
       "      <td>'32'</td>\n",
       "    </tr>\n",
       "    <tr>\n",
       "      <th>3</th>\n",
       "      <td>DWH_DB</td>\n",
       "      <td>dwh</td>\n",
       "    </tr>\n",
       "    <tr>\n",
       "      <th>4</th>\n",
       "      <td>DWH_DB_USER</td>\n",
       "      <td>dwhuser</td>\n",
       "    </tr>\n",
       "    <tr>\n",
       "      <th>5</th>\n",
       "      <td>DWH_DB_PASSWORD</td>\n",
       "      <td>Passw0rd</td>\n",
       "    </tr>\n",
       "    <tr>\n",
       "      <th>6</th>\n",
       "      <td>DWH_PORT</td>\n",
       "      <td>5439</td>\n",
       "    </tr>\n",
       "    <tr>\n",
       "      <th>7</th>\n",
       "      <td>DWH_IAM_ROLE_NAME</td>\n",
       "      <td>RedshiftRole1</td>\n",
       "    </tr>\n",
       "  </tbody>\n",
       "</table>\n",
       "</div>"
      ],
      "text/plain": [
       "                Param                  Value\n",
       "0  DWH_NAMESPACE_NAME      my-redshift-space\n",
       "1  DWH_WORKGROUP_NAME  my-redshift-workgroup\n",
       "2   DWH_BASE_CAPACITY                   '32'\n",
       "3              DWH_DB                    dwh\n",
       "4         DWH_DB_USER                dwhuser\n",
       "5     DWH_DB_PASSWORD               Passw0rd\n",
       "6            DWH_PORT                   5439\n",
       "7   DWH_IAM_ROLE_NAME          RedshiftRole1"
      ]
     },
     "execution_count": 9,
     "metadata": {},
     "output_type": "execute_result"
    }
   ],
   "source": [
    "##Load DWH Params from your config file\n",
    "#You should load in your key, secret, name of namespace, workgroup, database, user, and IAM role as well as database password, port and base capacity for redshift.\n",
    "\n",
    "import configparser\n",
    "\n",
    "config = configparser.ConfigParser()\n",
    "configFilePath = r'C:\\Users\\The user\\Documents\\course\\IntegralyticCourse\\DataEngineering\\RedshiftProject\\configuration.cfg'\n",
    "config.read(configFilePath)\n",
    "DB_name = config.get('RedshiftInfo', 'database')\n",
    "user_name = config.get('RedshiftInfo', 'user')\n",
    "host_name = config.get('RedshiftInfo', 'host')\n",
    "pass_name = config.get('RedshiftInfo', 'password')\n",
    "port_name = config.get('RedshiftInfo', 'port')\n",
    "\n",
    "\n",
    "#here is an example of a dataframe you can print out with all your params, you can take out password if you dont want it to print\n",
    "pd.DataFrame({\"Param\":\n",
    "                  [ \"DWH_NAMESPACE_NAME\", \"DWH_WORKGROUP_NAME\", \"DWH_BASE_CAPACITY\", \"DWH_DB\", \"DWH_DB_USER\", \"DWH_DB_PASSWORD\", \"DWH_PORT\", \"DWH_IAM_ROLE_NAME\"],\n",
    "              \"Value\":\n",
    "                  [DWH_NAMESPACE_NAME, DWH_WORKGROUP_NAME, DWH_BASE_CAPACITY, DWH_DB, DWH_DB_USER, DWH_DB_PASSWORD, DWH_PORT, DWH_IAM_ROLE_NAME]\n",
    "             })"
   ]
  },
  {
   "cell_type": "markdown",
   "metadata": {},
   "source": [
    "Create clients for IAM and RedshiftServerless"
   ]
  },
  {
   "cell_type": "code",
   "execution_count": 2,
   "metadata": {},
   "outputs": [
    {
     "ename": "InvalidRegionError",
     "evalue": "Provided region_name ''us-east-1'' doesn't match a supported format.",
     "output_type": "error",
     "traceback": [
      "\u001b[1;31m---------------------------------------------------------------------------\u001b[0m",
      "\u001b[1;31mInvalidRegionError\u001b[0m                        Traceback (most recent call last)",
      "\u001b[1;32mc:\\Users\\The user\\Documents\\course\\IntegralyticCourse\\DataEngineering\\RedshiftProject\\Template Creating Redshift Serverless.ipynb Cell 8\u001b[0m in \u001b[0;36m2\n\u001b[0;32m      <a href='vscode-notebook-cell:/c%3A/Users/The%20user/Documents/course/IntegralyticCourse/DataEngineering/RedshiftProject/Template%20Creating%20Redshift%20Serverless.ipynb#X10sZmlsZQ%3D%3D?line=0'>1</a>\u001b[0m \u001b[39m######Your code here######\u001b[39;00m\n\u001b[1;32m----> <a href='vscode-notebook-cell:/c%3A/Users/The%20user/Documents/course/IntegralyticCourse/DataEngineering/RedshiftProject/Template%20Creating%20Redshift%20Serverless.ipynb#X10sZmlsZQ%3D%3D?line=1'>2</a>\u001b[0m client \u001b[39m=\u001b[39m boto3\u001b[39m.\u001b[39;49mclient(\u001b[39m'\u001b[39;49m\u001b[39mredshift-serverless\u001b[39;49m\u001b[39m'\u001b[39;49m)\n",
      "File \u001b[1;32mc:\\ProgramData\\Anaconda3\\lib\\site-packages\\boto3\\__init__.py:92\u001b[0m, in \u001b[0;36mclient\u001b[1;34m(*args, **kwargs)\u001b[0m\n\u001b[0;32m     86\u001b[0m \u001b[39mdef\u001b[39;00m \u001b[39mclient\u001b[39m(\u001b[39m*\u001b[39margs, \u001b[39m*\u001b[39m\u001b[39m*\u001b[39mkwargs):\n\u001b[0;32m     87\u001b[0m     \u001b[39m\"\"\"\u001b[39;00m\n\u001b[0;32m     88\u001b[0m \u001b[39m    Create a low-level service client by name using the default session.\u001b[39;00m\n\u001b[0;32m     89\u001b[0m \n\u001b[0;32m     90\u001b[0m \u001b[39m    See :py:meth:`boto3.session.Session.client`.\u001b[39;00m\n\u001b[0;32m     91\u001b[0m \u001b[39m    \"\"\"\u001b[39;00m\n\u001b[1;32m---> 92\u001b[0m     \u001b[39mreturn\u001b[39;00m _get_default_session()\u001b[39m.\u001b[39mclient(\u001b[39m*\u001b[39margs, \u001b[39m*\u001b[39m\u001b[39m*\u001b[39mkwargs)\n",
      "File \u001b[1;32mc:\\ProgramData\\Anaconda3\\lib\\site-packages\\boto3\\session.py:299\u001b[0m, in \u001b[0;36mSession.client\u001b[1;34m(self, service_name, region_name, api_version, use_ssl, verify, endpoint_url, aws_access_key_id, aws_secret_access_key, aws_session_token, config)\u001b[0m\n\u001b[0;32m    217\u001b[0m \u001b[39mdef\u001b[39;00m \u001b[39mclient\u001b[39m(\n\u001b[0;32m    218\u001b[0m     \u001b[39mself\u001b[39m,\n\u001b[0;32m    219\u001b[0m     service_name,\n\u001b[1;32m   (...)\u001b[0m\n\u001b[0;32m    228\u001b[0m     config\u001b[39m=\u001b[39m\u001b[39mNone\u001b[39;00m,\n\u001b[0;32m    229\u001b[0m ):\n\u001b[0;32m    230\u001b[0m     \u001b[39m\"\"\"\u001b[39;00m\n\u001b[0;32m    231\u001b[0m \u001b[39m    Create a low-level service client by name.\u001b[39;00m\n\u001b[0;32m    232\u001b[0m \n\u001b[1;32m   (...)\u001b[0m\n\u001b[0;32m    297\u001b[0m \n\u001b[0;32m    298\u001b[0m \u001b[39m    \"\"\"\u001b[39;00m\n\u001b[1;32m--> 299\u001b[0m     \u001b[39mreturn\u001b[39;00m \u001b[39mself\u001b[39;49m\u001b[39m.\u001b[39;49m_session\u001b[39m.\u001b[39;49mcreate_client(\n\u001b[0;32m    300\u001b[0m         service_name,\n\u001b[0;32m    301\u001b[0m         region_name\u001b[39m=\u001b[39;49mregion_name,\n\u001b[0;32m    302\u001b[0m         api_version\u001b[39m=\u001b[39;49mapi_version,\n\u001b[0;32m    303\u001b[0m         use_ssl\u001b[39m=\u001b[39;49muse_ssl,\n\u001b[0;32m    304\u001b[0m         verify\u001b[39m=\u001b[39;49mverify,\n\u001b[0;32m    305\u001b[0m         endpoint_url\u001b[39m=\u001b[39;49mendpoint_url,\n\u001b[0;32m    306\u001b[0m         aws_access_key_id\u001b[39m=\u001b[39;49maws_access_key_id,\n\u001b[0;32m    307\u001b[0m         aws_secret_access_key\u001b[39m=\u001b[39;49maws_secret_access_key,\n\u001b[0;32m    308\u001b[0m         aws_session_token\u001b[39m=\u001b[39;49maws_session_token,\n\u001b[0;32m    309\u001b[0m         config\u001b[39m=\u001b[39;49mconfig,\n\u001b[0;32m    310\u001b[0m     )\n",
      "File \u001b[1;32mc:\\ProgramData\\Anaconda3\\lib\\site-packages\\botocore\\session.py:893\u001b[0m, in \u001b[0;36mSession.create_client\u001b[1;34m(self, service_name, region_name, api_version, use_ssl, verify, endpoint_url, aws_access_key_id, aws_secret_access_key, aws_session_token, config)\u001b[0m\n\u001b[0;32m    890\u001b[0m \u001b[39melif\u001b[39;00m default_client_config \u001b[39mis\u001b[39;00m \u001b[39mnot\u001b[39;00m \u001b[39mNone\u001b[39;00m:\n\u001b[0;32m    891\u001b[0m     config \u001b[39m=\u001b[39m default_client_config\n\u001b[1;32m--> 893\u001b[0m region_name \u001b[39m=\u001b[39m \u001b[39mself\u001b[39;49m\u001b[39m.\u001b[39;49m_resolve_region_name(region_name, config)\n\u001b[0;32m    895\u001b[0m \u001b[39m# Figure out the verify value base on the various\u001b[39;00m\n\u001b[0;32m    896\u001b[0m \u001b[39m# configuration options.\u001b[39;00m\n\u001b[0;32m    897\u001b[0m \u001b[39mif\u001b[39;00m verify \u001b[39mis\u001b[39;00m \u001b[39mNone\u001b[39;00m:\n",
      "File \u001b[1;32mc:\\ProgramData\\Anaconda3\\lib\\site-packages\\botocore\\session.py:975\u001b[0m, in \u001b[0;36mSession._resolve_region_name\u001b[1;34m(self, region_name, config)\u001b[0m\n\u001b[0;32m    972\u001b[0m     \u001b[39melse\u001b[39;00m:\n\u001b[0;32m    973\u001b[0m         region_name \u001b[39m=\u001b[39m \u001b[39mself\u001b[39m\u001b[39m.\u001b[39mget_config_variable(\u001b[39m'\u001b[39m\u001b[39mregion\u001b[39m\u001b[39m'\u001b[39m)\n\u001b[1;32m--> 975\u001b[0m validate_region_name(region_name)\n\u001b[0;32m    976\u001b[0m \u001b[39m# For any client that we create in retrieving credentials\u001b[39;00m\n\u001b[0;32m    977\u001b[0m \u001b[39m# we want to create it using the same region as specified in\u001b[39;00m\n\u001b[0;32m    978\u001b[0m \u001b[39m# creating this client. It is important to note though that the\u001b[39;00m\n\u001b[1;32m   (...)\u001b[0m\n\u001b[0;32m    983\u001b[0m \u001b[39m# the credentials returned at regional endpoints are valid across\u001b[39;00m\n\u001b[0;32m    984\u001b[0m \u001b[39m# all regions in the partition.\u001b[39;00m\n\u001b[0;32m    985\u001b[0m \u001b[39mself\u001b[39m\u001b[39m.\u001b[39m_last_client_region_used \u001b[39m=\u001b[39m region_name\n",
      "File \u001b[1;32mc:\\ProgramData\\Anaconda3\\lib\\site-packages\\botocore\\utils.py:1264\u001b[0m, in \u001b[0;36mvalidate_region_name\u001b[1;34m(region_name)\u001b[0m\n\u001b[0;32m   1262\u001b[0m valid \u001b[39m=\u001b[39m valid_host_label\u001b[39m.\u001b[39mmatch(region_name)\n\u001b[0;32m   1263\u001b[0m \u001b[39mif\u001b[39;00m \u001b[39mnot\u001b[39;00m valid:\n\u001b[1;32m-> 1264\u001b[0m     \u001b[39mraise\u001b[39;00m InvalidRegionError(region_name\u001b[39m=\u001b[39mregion_name)\n",
      "\u001b[1;31mInvalidRegionError\u001b[0m: Provided region_name ''us-east-1'' doesn't match a supported format."
     ]
    }
   ],
   "source": [
    "######Your code here######\n",
    "client = boto3.client('redshift-serverless')"
   ]
  },
  {
   "cell_type": "markdown",
   "metadata": {},
   "source": [
    "## STEP 1: IAM ROLE\n",
    "- Create an IAM Role that makes Redshift able to access S3 bucket (ReadOnly)\n",
    "https://boto3.amazonaws.com/v1/documentation/api/latest/reference/services/iam/client/create_role.html\n",
    "for AssumeRolePolicyDocument, open the role you created through the console under trust relationship, trusted entities, use that json for that perameter. See image 1\n"
   ]
  },
  {
   "cell_type": "code",
   "execution_count": 11,
   "metadata": {},
   "outputs": [
    {
     "name": "stdout",
     "output_type": "stream",
     "text": [
      "1.1 Creating a new IAM Role\n"
     ]
    }
   ],
   "source": [
    "# TODO: Create the IAM role\n",
    "print(\"1.1 Creating a new IAM Role\")\n",
    "\n",
    "\n",
    "######Your code here######\n",
    "\n",
    "\n"
   ]
  },
  {
   "cell_type": "markdown",
   "metadata": {},
   "source": [
    "### STEP 1.2: Attach Policy to IAM ROLE\n",
    "- attach policy to the role\n",
    "https://boto3.amazonaws.com/v1/documentation/api/latest/reference/services/iam/client/attach_role_policy.html\n",
    "for PolicyArn see image 2\n"
   ]
  },
  {
   "cell_type": "code",
   "execution_count": 13,
   "metadata": {},
   "outputs": [
    {
     "name": "stdout",
     "output_type": "stream",
     "text": [
      "1.2 Attaching Policy\n"
     ]
    }
   ],
   "source": [
    "# TODO: Attach Policy\n",
    "print(\"1.2 Attaching Policy\")\n",
    "\n",
    "\n",
    "\n",
    "######Your code here######\n",
    "\n",
    "arn:aws:iam::aws:policy/AmazonS3ReadOnlyAccess\n"
   ]
  },
  {
   "cell_type": "markdown",
   "metadata": {},
   "source": [
    "### STEP 1.3: Get IAM role ARN\n",
    "- get the IAM role ARN and write it to your config file, so you can use to load data from S3 to Redshift using the ARN\n",
    "https://boto3.amazonaws.com/v1/documentation/api/latest/reference/services/iam/client/get_role.html"
   ]
  },
  {
   "cell_type": "code",
   "execution_count": 42,
   "metadata": {},
   "outputs": [
    {
     "name": "stdout",
     "output_type": "stream",
     "text": [
      "1.3 Get the IAM role ARN\n",
      "arn:aws:iam::786152250832:role/RedshiftRole1\n"
     ]
    }
   ],
   "source": [
    "# TODO: Get and print the IAM role ARN, save it to your config file\n",
    "print(\"1.3 Get the IAM role ARN\")\n",
    "\n",
    "\n",
    "\n",
    "######Your code here######\n",
    "\n",
    "\n"
   ]
  },
  {
   "cell_type": "markdown",
   "metadata": {},
   "source": [
    "## Step 2 Create A Redshift Serverless Instance"
   ]
  },
  {
   "cell_type": "markdown",
   "metadata": {},
   "source": [
    "### Step 2.1 Create A Redshift Serverless Namespace\n",
    "\n",
    "for complete arguments to create_namespace see\n",
    "https://boto3.amazonaws.com/v1/documentation/api/latest/reference/services/redshift-serverless/client/create_namespace.html"
   ]
  },
  {
   "cell_type": "code",
   "execution_count": null,
   "metadata": {},
   "outputs": [],
   "source": [
    "######Your code here######"
   ]
  },
  {
   "cell_type": "markdown",
   "metadata": {},
   "source": [
    "### Step 2.2 Create A Redshift Serverless Workgroup\n",
    " https://boto3.amazonaws.com/v1/documentation/api/latest/reference/services/redshift-serverless/client/create_workgroup.html"
   ]
  },
  {
   "cell_type": "code",
   "execution_count": null,
   "metadata": {},
   "outputs": [],
   "source": [
    "######Your code here######"
   ]
  },
  {
   "cell_type": "markdown",
   "metadata": {},
   "source": [
    "### Step 2.3 Check if your workgroup is available, get the host address and write it to your config file\n",
    "Additionally, you can take the response object and make it into a nice dataframe with relevant and useful information about your workgroup\n",
    "\n",
    "https://boto3.amazonaws.com/v1/documentation/api/latest/reference/services/redshift-serverless/client/create_workgroup.html"
   ]
  },
  {
   "cell_type": "code",
   "execution_count": 8,
   "metadata": {},
   "outputs": [],
   "source": [
    "######Your code here######"
   ]
  },
  {
   "cell_type": "markdown",
   "metadata": {},
   "source": [
    "## Step 3 Test\n",
    "Connect to your database and run a test query"
   ]
  },
  {
   "cell_type": "markdown",
   "metadata": {},
   "source": []
  }
 ],
 "metadata": {
  "kernelspec": {
   "display_name": "base",
   "language": "python",
   "name": "python3"
  },
  "language_info": {
   "codemirror_mode": {
    "name": "ipython",
    "version": 3
   },
   "file_extension": ".py",
   "mimetype": "text/x-python",
   "name": "python",
   "nbconvert_exporter": "python",
   "pygments_lexer": "ipython3",
   "version": "3.9.13"
  },
  "orig_nbformat": 4
 },
 "nbformat": 4,
 "nbformat_minor": 2
}
